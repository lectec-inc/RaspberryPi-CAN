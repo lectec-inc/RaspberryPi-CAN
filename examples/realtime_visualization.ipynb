{
 "cells": [
  {
   "cell_type": "markdown",
   "metadata": {},
   "source": [
    "# VESC Real-Time Data Visualization\n",
    "\n",
    "This notebook lets you see VESC data as **live, updating graphs**! Each cell below will show a different measurement from the VESC, updating in real-time as you spin the motor or change settings.\n",
    "\n",
    "## How to Use This Notebook\n",
    "\n",
    "1. **Run the setup cell first** to connect to the VESC\n",
    "2. **Choose a graph to watch** by running one of the cells below\n",
    "3. **Spin the motor by hand** or use motor commands to see the data change\n",
    "4. **Press Ctrl+C** or interrupt the kernel to stop a graph\n",
    "\n",
    "💡 **Tip**: Try running a graph, then manually spinning the motor to see real-time changes!"
   ]
  },
  {
   "cell_type": "markdown",
   "metadata": {},
   "source": [
    "## Setup - Connect to VESC"
   ]
  },
  {
   "cell_type": "code",
   "source": [
    "# Setup Python path to find student_api from parent directory\n",
    "import sys\n",
    "import os\n",
    "sys.path.append(os.path.dirname(os.path.dirname(os.path.abspath('__file__'))))\n",
    "\n",
    "from student_api import VESCStudentAPI\n",
    "import time\n",
    "import matplotlib.pyplot as plt\n",
    "import numpy as np\n",
    "from collections import deque\n",
    "import warnings\n",
    "warnings.filterwarnings('ignore')\n",
    "\n",
    "# Create API instance\n",
    "vesc_api = VESCStudentAPI()\n",
    "\n",
    "# Start the VESC system\n",
    "if vesc_api.start():\n",
    "    print(\"VESC system started successfully!\")\n",
    "    \n",
    "    # Get controller for VESC ID 74 (as specified in README)\n",
    "    vesc = vesc_api.get_controller(74)\n",
    "    \n",
    "    if vesc:\n",
    "        print(\"Connected to VESC controller!\")\n",
    "    else:\n",
    "        print(\"Failed to get VESC controller\")\n",
    "else:\n",
    "    print(\"Failed to start VESC system\")"
   ],
   "metadata": {},
   "execution_count": null,
   "outputs": []
  },
  {
   "cell_type": "markdown",
   "execution_count": null,
   "metadata": {},
   "outputs": [],
   "source": "## How to Use This Notebook\n\n1. **Run the setup cell first** to connect to the VESC\n2. **Choose a graph to watch** by running one of the cells below\n3. **Manually spin the motor by hand** to see the data change in real-time\n4. **Press Ctrl+C** or interrupt the kernel to stop a graph\n\n💡 **Tip**: Try running a graph, then manually spinning the motor at different speeds to see how the data responds!"
  },
  {
   "cell_type": "markdown",
   "metadata": {},
   "source": [
    "## Real-Time Graph Function\n",
    "\n",
    "This helper function creates live updating graphs:"
   ]
  },
  {
   "cell_type": "code",
   "execution_count": null,
   "metadata": {},
   "outputs": [],
   "source": [
    "def plot_realtime_data(get_data_func, title, ylabel, color='blue', duration=30, update_rate=10):\n",
    "    \"\"\"\n",
    "    Create a real-time updating plot\n",
    "    \n",
    "    Args:\n",
    "        get_data_func: Function to get data (like vesc.get_rpm)\n",
    "        title: Graph title\n",
    "        ylabel: Y-axis label\n",
    "        color: Line color\n",
    "        duration: How long to run (seconds)\n",
    "        update_rate: Updates per second\n",
    "    \"\"\"\n",
    "    # Setup data storage\n",
    "    max_points = duration * update_rate\n",
    "    times = deque(maxlen=max_points)\n",
    "    values = deque(maxlen=max_points)\n",
    "    \n",
    "    # Create figure\n",
    "    fig, ax = plt.subplots(figsize=(12, 6))\n",
    "    line, = ax.plot([], [], color=color, linewidth=2)\n",
    "    ax.set_title(f'{title} - Real-Time Data', fontsize=16, fontweight='bold')\n",
    "    ax.set_xlabel('Time (seconds)', fontsize=12)\n",
    "    ax.set_ylabel(ylabel, fontsize=12)\n",
    "    ax.grid(True, alpha=0.3)\n",
    "    \n",
    "    start_time = time.time()\n",
    "    \n",
    "    print(f\"📊 Starting {title} visualization...\")\n",
    "    print(f\"⏱️ Will run for {duration} seconds at {update_rate}Hz\")\n",
    "    print(f\"🛑 Press Ctrl+C or interrupt kernel to stop early\\n\")\n",
    "    \n",
    "    try:\n",
    "        while time.time() - start_time < duration:\n",
    "            current_time = time.time() - start_time\n",
    "            \n",
    "            # Get new data point\n",
    "            try:\n",
    "                value = get_data_func()\n",
    "                if value is None:\n",
    "                    value = 0\n",
    "            except:\n",
    "                value = 0\n",
    "            \n",
    "            # Store data\n",
    "            times.append(current_time)\n",
    "            values.append(value)\n",
    "            \n",
    "            # Update plot\n",
    "            if len(times) > 1:\n",
    "                line.set_data(list(times), list(values))\n",
    "                \n",
    "                # Auto-scale axes\n",
    "                ax.set_xlim(max(0, current_time - 20), current_time + 1)\n",
    "                if values:\n",
    "                    val_min, val_max = min(values), max(values)\n",
    "                    margin = abs(val_max - val_min) * 0.1 + 0.1\n",
    "                    ax.set_ylim(val_min - margin, val_max + margin)\n",
    "                \n",
    "                # Show current value\n",
    "                ax.set_title(f'{title} - Current: {value:.2f} {ylabel.split()[0]}', \n",
    "                           fontsize=16, fontweight='bold')\n",
    "                \n",
    "                plt.draw()\n",
    "                plt.pause(1/update_rate)\n",
    "            \n",
    "            time.sleep(max(0, 1/update_rate - 0.01))  # Maintain update rate\n",
    "    \n",
    "    except KeyboardInterrupt:\n",
    "        print(\"\\n🛑 Visualization stopped by user\")\n",
    "    \n",
    "    print(f\"✅ {title} visualization complete!\")\n",
    "    print(f\"📈 Collected {len(values)} data points\")\n",
    "    if values:\n",
    "        print(f\"📊 Final value: {values[-1]:.2f} {ylabel.split()[0]}\")\n",
    "        print(f\"📊 Min: {min(values):.2f}, Max: {max(values):.2f}, Avg: {np.mean(values):.2f}\")\n",
    "    \n",
    "    plt.show()"
   ]
  },
  {
   "cell_type": "markdown",
   "metadata": {},
   "source": [
    "## Motor Speed (RPM) - Real-Time Graph\n",
    "\n",
    "Watch the motor speed change in real-time! Perfect for seeing how fast the motor spins.\n",
    "\n",
    "💡 **Try this**: Run the cell, then spin the motor by hand to see the RPM change!"
   ]
  },
  {
   "cell_type": "code",
   "execution_count": null,
   "metadata": {},
   "outputs": [],
   "source": [
    "# Real-time RPM visualization\n",
    "plot_realtime_data(\n",
    "    get_data_func=vesc.get_rpm,\n",
    "    title=\"Motor Speed (RPM)\",\n",
    "    ylabel=\"RPM (Revolutions Per Minute)\",\n",
    "    color='red',\n",
    "    duration=30,\n",
    "    update_rate=10\n",
    ")"
   ]
  },
  {
   "cell_type": "markdown",
   "metadata": {},
   "source": "## Duty Cycle - Real-Time Graph\n\nWatch the throttle setting! This shows how much power the VESC is sending to the motor.\n\n💡 **Note**: This will normally stay at 0 since we're not sending motor commands - it only changes when the VESC receives control signals."
  },
  {
   "cell_type": "code",
   "execution_count": null,
   "metadata": {},
   "outputs": [],
   "source": [
    "# Real-time Motor Current visualization\n",
    "plot_realtime_data(\n",
    "    get_data_func=vesc.get_motor_current,\n",
    "    title=\"Motor Current\",\n",
    "    ylabel=\"Current (Amperes)\",\n",
    "    color='orange',\n",
    "    duration=30,\n",
    "    update_rate=10\n",
    ")"
   ]
  },
  {
   "cell_type": "markdown",
   "metadata": {},
   "source": [
    "## Duty Cycle - Real-Time Graph\n",
    "\n",
    "Watch the throttle setting! This shows how much power the VESC is sending to the motor.\n",
    "\n",
    "💡 **Try this**: Send motor commands in another cell to see this change!"
   ]
  },
  {
   "cell_type": "code",
   "execution_count": null,
   "metadata": {},
   "outputs": [],
   "source": [
    "# Real-time Duty Cycle visualization\n",
    "plot_realtime_data(\n",
    "    get_data_func=vesc.get_duty_cycle,\n",
    "    title=\"Duty Cycle (Throttle)\",\n",
    "    ylabel=\"Duty Cycle (-1.0 to 1.0)\",\n",
    "    color='purple',\n",
    "    duration=30,\n",
    "    update_rate=10\n",
    ")"
   ]
  },
  {
   "cell_type": "markdown",
   "metadata": {},
   "source": [
    "## Battery Voltage - Real-Time Graph\n",
    "\n",
    "Monitor your battery level! This shows the voltage of your battery in real-time.\n",
    "\n",
    "💡 **This should always show a value** - it's your battery voltage!"
   ]
  },
  {
   "cell_type": "code",
   "execution_count": null,
   "metadata": {},
   "outputs": [],
   "source": [
    "# Real-time Battery Voltage visualization\n",
    "plot_realtime_data(\n",
    "    get_data_func=vesc.get_input_voltage,\n",
    "    title=\"Battery Voltage\",\n",
    "    ylabel=\"Voltage (Volts)\",\n",
    "    color='green',\n",
    "    duration=30,\n",
    "    update_rate=5  # Slower update rate since voltage changes slowly\n",
    ")"
   ]
  },
  {
   "cell_type": "markdown",
   "metadata": {},
   "source": [
    "## Battery Current - Real-Time Graph\n",
    "\n",
    "See how much electricity is being drawn from the battery! This is different from motor current.\n",
    "\n",
    "💡 **Try this**: Compare this to motor current - they're often different!"
   ]
  },
  {
   "cell_type": "code",
   "execution_count": null,
   "metadata": {},
   "outputs": [],
   "source": [
    "# Real-time Battery Current visualization\n",
    "plot_realtime_data(\n",
    "    get_data_func=vesc.get_input_current,\n",
    "    title=\"Battery Current\",\n",
    "    ylabel=\"Current (Amperes)\",\n",
    "    color='blue',\n",
    "    duration=30,\n",
    "    update_rate=10\n",
    ")"
   ]
  },
  {
   "cell_type": "markdown",
   "metadata": {},
   "source": [
    "## Controller Temperature - Real-Time Graph\n",
    "\n",
    "Watch the VESC controller heat up! Important for monitoring system health.\n",
    "\n",
    "💡 **Safety**: If temperature goes above 80°C, give the controller a break!"
   ]
  },
  {
   "cell_type": "code",
   "execution_count": null,
   "metadata": {},
   "outputs": [],
   "source": [
    "# Real-time Controller Temperature visualization\n",
    "plot_realtime_data(\n",
    "    get_data_func=vesc.get_fet_temperature,\n",
    "    title=\"Controller Temperature (FET)\",\n",
    "    ylabel=\"Temperature (°C)\",\n",
    "    color='red',\n",
    "    duration=30,\n",
    "    update_rate=5  # Slower update - temperature changes slowly\n",
    ")"
   ]
  },
  {
   "cell_type": "markdown",
   "metadata": {},
   "source": [
    "## Motor Temperature - Real-Time Graph\n",
    "\n",
    "Monitor motor heat! Motors can get hot when working hard.\n",
    "\n",
    "💡 **Safety**: If motor temperature goes above 100°C, let it cool down!"
   ]
  },
  {
   "cell_type": "code",
   "execution_count": null,
   "metadata": {},
   "outputs": [],
   "source": [
    "# Real-time Motor Temperature visualization\n",
    "plot_realtime_data(\n",
    "    get_data_func=vesc.get_motor_temperature,\n",
    "    title=\"Motor Temperature\",\n",
    "    ylabel=\"Temperature (°C)\",\n",
    "    color='darkred',\n",
    "    duration=30,\n",
    "    update_rate=5  # Slower update - temperature changes slowly\n",
    ")"
   ]
  },
  {
   "cell_type": "markdown",
   "metadata": {},
   "source": "## Multiple Graphs at Once\n\nWant to see multiple measurements at the same time? This cell shows 4 key measurements together!\n\n💡 **Try this**: Run this cell, then manually spin the motor to see how all the values change together!"
  },
  {
   "cell_type": "markdown",
   "execution_count": null,
   "metadata": {},
   "outputs": [],
   "source": "## Manual Testing Guide\n\nWant to see interesting data in your graphs? Here are safe ways to generate data by manually spinning the motor:\n\n### 🖐️ **Manual Motor Testing (Safe)**\n\n**1. 🔄 SPIN SLOWLY by hand:**\n- Watch RPM stay low (under 100)\n- See small current values\n- Tachometer counts up slowly\n\n**2. 🌪️ SPIN FAST by hand:**\n- Watch RPM jump higher\n- See current increase\n- Tachometer counts up quickly\n\n**3. 🛑 SPIN THEN STOP suddenly:**\n- Watch values spike then drop to zero\n- See the decay curves\n\n**4. ↔️ SPIN BOTH DIRECTIONS:**\n- Forward spin = positive RPM\n- Backward spin = negative RPM\n- Current can go both ways too\n\n**5. 🔋 WATCH VOLTAGE:**\n- Should stay steady around your battery voltage\n- May drop slightly under heavy spin\n\n💡 **Best Results**: Start a graph, then manually spin the motor!\n🔒 **This is much safer** than using motor control commands."
  },
  {
   "cell_type": "markdown",
   "metadata": {},
   "source": "# Example: Test the graphs with manual spinning\n\nprint(\\\"🎯 How to Test Your Graphs:\\\")\\nprint()\\nprint(\\\"1. 📊 Start any graph above\\\")\\nprint(\\\"2. 🖐️ Manually spin the motor while graph is running\\\")\\nprint(\\\"3. 👀 Watch the real-time data change!\\\")\\nprint()\\nprint(\\\"🔄 Try different spinning techniques:\\\")\\nprint(\\\"   • Slow steady spin\\\")\\nprint(\\\"   • Fast spin burst\\\")\\nprint(\\\"   • Spin forward then backward\\\")\\nprint(\\\"   • Spin fast then stop suddenly\\\")\\nprint()\\nprint(\\\"💡 This is the safest way to see live VESC data!\\\")"
  },
  {
   "cell_type": "markdown",
   "execution_count": null,
   "metadata": {},
   "outputs": [],
   "source": "## Tips for Using Real-Time Graphs\n\n### 🎯 **Getting Good Data:**\n1. **Manually spin the motor by hand** to see RPM and current changes\n2. **Try different spin speeds** - slow vs fast\n3. **Spin in both directions** to see positive and negative values\n4. **Watch voltage** - it should always show your battery level\n5. **Monitor temperatures** during extended testing\n\n### 📊 **Understanding the Graphs:**\n- **Flat lines at zero** = Normal when motor isn't moving\n- **Spiky data** = Normal - motors create electrical noise when spinning\n- **Voltage steady** = Battery level (should stay fairly constant)\n- **Tachometer increasing** = Counts every rotation (like an odometer)\n\n### 🔧 **Troubleshooting:**\n- **Graph not updating?** Check VESC connection\n- **All zeros?** Try spinning motor manually\n- **Graph too fast/slow?** Adjust `update_rate` parameter in the code\n- **Want longer recording?** Increase `duration` parameter in the code\n\n### 🚀 **Fun Experiments:**\n- Watch how RPM and current relate when you spin at different speeds\n- See temperature changes during extended manual testing\n- Compare motor current vs battery current\n- Watch the tachometer count up as you spin\n- Try spinning fast then stopping - see the decay curves!\n\n### 🔒 **Safety Note:**\nManual spinning is much safer than motor control commands. You have complete control over the speed and can stop instantly. This is the recommended way to generate interesting data for the graphs!\n\nHave fun visualizing your VESC data! 📈⚡"
  },
  {
   "cell_type": "markdown",
   "metadata": {},
   "source": [
    "## Power Consumed (Watt Hours) - Real-Time Graph\n",
    "\n",
    "More accurate energy measurement! Watt hours account for both current and voltage.\n",
    "\n",
    "💡 **This is like your electricity bill** - measured in watt hours!"
   ]
  },
  {
   "cell_type": "code",
   "execution_count": null,
   "metadata": {},
   "outputs": [],
   "source": [
    "# Real-time Power Consumed visualization\n",
    "plot_realtime_data(\n",
    "    get_data_func=vesc.get_watt_hours_consumed,\n",
    "    title=\"Power Consumed\",\n",
    "    ylabel=\"Watt Hours (Wh)\",\n",
    "    color='navy',\n",
    "    duration=30,\n",
    "    update_rate=5\n",
    ")"
   ]
  },
  {
   "cell_type": "markdown",
   "metadata": {},
   "source": [
    "## Power Recovered (Watt Hours) - Real-Time Graph\n",
    "\n",
    "See the power you recover from regenerative braking! This is the most accurate measure of energy recovery.\n",
    "\n",
    "💡 **Compare this to power consumed** to see your efficiency!"
   ]
  },
  {
   "cell_type": "code",
   "execution_count": null,
   "metadata": {},
   "outputs": [],
   "source": [
    "# Real-time Power Recovered visualization\n",
    "plot_realtime_data(\n",
    "    get_data_func=vesc.get_watt_hours_charged,\n",
    "    title=\"Power Recovered (Regenerative Braking)\",\n",
    "    ylabel=\"Watt Hours (Wh)\",\n",
    "    color='forestgreen',\n",
    "    duration=30,\n",
    "    update_rate=5\n",
    ")"
   ]
  },
  {
   "cell_type": "markdown",
   "metadata": {},
   "source": [
    "## Total Rotations (Tachometer) - Real-Time Graph\n",
    "\n",
    "Count every rotation the motor makes! Like an odometer for your motor.\n",
    "\n",
    "💡 **This keeps counting up** every time the motor spins!"
   ]
  },
  {
   "cell_type": "code",
   "execution_count": null,
   "metadata": {},
   "outputs": [],
   "source": [
    "# Real-time Tachometer visualization\n",
    "plot_realtime_data(\n",
    "    get_data_func=vesc.get_tachometer_value,\n",
    "    title=\"Total Motor Rotations (Tachometer)\",\n",
    "    ylabel=\"Total Rotations\",\n",
    "    color='brown',\n",
    "    duration=30,\n",
    "    update_rate=10\n",
    ")"
   ]
  },
  {
   "cell_type": "markdown",
   "metadata": {},
   "source": [
    "## Multiple Graphs at Once\n",
    "\n",
    "Want to see multiple measurements at the same time? This cell shows 4 key measurements together!"
   ]
  },
  {
   "cell_type": "code",
   "execution_count": null,
   "metadata": {},
   "outputs": [],
   "source": [
    "def plot_multiple_realtime(duration=30, update_rate=5):\n",
    "    \"\"\"Show multiple VESC measurements in real-time\"\"\"\n",
    "    \n",
    "    # Setup data storage\n",
    "    max_points = duration * update_rate\n",
    "    times = deque(maxlen=max_points)\n",
    "    rpm_data = deque(maxlen=max_points)\n",
    "    current_data = deque(maxlen=max_points)\n",
    "    voltage_data = deque(maxlen=max_points)\n",
    "    temp_data = deque(maxlen=max_points)\n",
    "    \n",
    "    # Create subplots\n",
    "    fig, ((ax1, ax2), (ax3, ax4)) = plt.subplots(2, 2, figsize=(15, 10))\n",
    "    \n",
    "    # Setup each subplot\n",
    "    line1, = ax1.plot([], [], 'r-', linewidth=2)\n",
    "    ax1.set_title('Motor Speed (RPM)', fontweight='bold')\n",
    "    ax1.set_ylabel('RPM')\n",
    "    ax1.grid(True, alpha=0.3)\n",
    "    \n",
    "    line2, = ax2.plot([], [], 'orange', linewidth=2)\n",
    "    ax2.set_title('Motor Current', fontweight='bold')\n",
    "    ax2.set_ylabel('Current (A)')\n",
    "    ax2.grid(True, alpha=0.3)\n",
    "    \n",
    "    line3, = ax3.plot([], [], 'g-', linewidth=2)\n",
    "    ax3.set_title('Battery Voltage', fontweight='bold')\n",
    "    ax3.set_ylabel('Voltage (V)')\n",
    "    ax3.set_xlabel('Time (s)')\n",
    "    ax3.grid(True, alpha=0.3)\n",
    "    \n",
    "    line4, = ax4.plot([], [], 'red', linewidth=2)\n",
    "    ax4.set_title('Controller Temperature', fontweight='bold')\n",
    "    ax4.set_ylabel('Temperature (°C)')\n",
    "    ax4.set_xlabel('Time (s)')\n",
    "    ax4.grid(True, alpha=0.3)\n",
    "    \n",
    "    plt.tight_layout()\n",
    "    \n",
    "    start_time = time.time()\n",
    "    print(f\"📊 Starting multi-parameter visualization for {duration} seconds...\")\n",
    "    print(f\"🛑 Press Ctrl+C to stop early\\n\")\n",
    "    \n",
    "    try:\n",
    "        while time.time() - start_time < duration:\n",
    "            current_time = time.time() - start_time\n",
    "            \n",
    "            # Get all data\n",
    "            rpm = vesc.get_rpm() or 0\n",
    "            current = vesc.get_motor_current() or 0\n",
    "            voltage = vesc.get_input_voltage() or 0\n",
    "            temp = vesc.get_fet_temperature() or 0\n",
    "            \n",
    "            # Store data\n",
    "            times.append(current_time)\n",
    "            rpm_data.append(rpm)\n",
    "            current_data.append(current)\n",
    "            voltage_data.append(voltage)\n",
    "            temp_data.append(temp)\n",
    "            \n",
    "            # Update plots\n",
    "            if len(times) > 1:\n",
    "                time_list = list(times)\n",
    "                \n",
    "                # Update RPM\n",
    "                line1.set_data(time_list, list(rpm_data))\n",
    "                ax1.set_xlim(max(0, current_time - 20), current_time + 1)\n",
    "                if rpm_data:\n",
    "                    margin = max(abs(max(rpm_data)), abs(min(rpm_data))) * 0.1 + 10\n",
    "                    ax1.set_ylim(min(rpm_data) - margin, max(rpm_data) + margin)\n",
    "                ax1.set_title(f'Motor Speed: {rpm:.1f} RPM', fontweight='bold')\n",
    "                \n",
    "                # Update Current\n",
    "                line2.set_data(time_list, list(current_data))\n",
    "                ax2.set_xlim(max(0, current_time - 20), current_time + 1)\n",
    "                if current_data:\n",
    "                    margin = max(abs(max(current_data)), abs(min(current_data))) * 0.1 + 0.5\n",
    "                    ax2.set_ylim(min(current_data) - margin, max(current_data) + margin)\n",
    "                ax2.set_title(f'Motor Current: {current:.2f} A', fontweight='bold')\n",
    "                \n",
    "                # Update Voltage\n",
    "                line3.set_data(time_list, list(voltage_data))\n",
    "                ax3.set_xlim(max(0, current_time - 20), current_time + 1)\n",
    "                if voltage_data:\n",
    "                    v_min, v_max = min(voltage_data), max(voltage_data)\n",
    "                    margin = (v_max - v_min) * 0.1 + 0.5\n",
    "                    ax3.set_ylim(v_min - margin, v_max + margin)\n",
    "                ax3.set_title(f'Battery Voltage: {voltage:.2f} V', fontweight='bold')\n",
    "                \n",
    "                # Update Temperature\n",
    "                line4.set_data(time_list, list(temp_data))\n",
    "                ax4.set_xlim(max(0, current_time - 20), current_time + 1)\n",
    "                if temp_data:\n",
    "                    t_min, t_max = min(temp_data), max(temp_data)\n",
    "                    margin = (t_max - t_min) * 0.1 + 2\n",
    "                    ax4.set_ylim(t_min - margin, t_max + margin)\n",
    "                ax4.set_title(f'Controller Temp: {temp:.1f}°C', fontweight='bold')\n",
    "                \n",
    "                plt.draw()\n",
    "                plt.pause(1/update_rate)\n",
    "            \n",
    "            time.sleep(max(0, 1/update_rate - 0.02))\n",
    "    \n",
    "    except KeyboardInterrupt:\n",
    "        print(\"\\n🛑 Multi-parameter visualization stopped\")\n",
    "    \n",
    "    plt.show()\n",
    "    print(\"✅ Multi-parameter visualization complete!\")\n",
    "\n",
    "# Run the multi-parameter visualization\n",
    "plot_multiple_realtime(duration=30, update_rate=5)"
   ]
  },
  {
   "cell_type": "markdown",
   "metadata": {},
   "source": [
    "## Motor Control Helper (Optional)\n",
    "\n",
    "Want to test motor commands while watching the graphs? Use this cell to send safe motor commands.\n",
    "\n",
    "⚠️ **Safety First**: Only use this when it's safe for the motor to move!"
   ]
  },
  {
   "cell_type": "code",
   "execution_count": null,
   "metadata": {},
   "outputs": [],
   "source": [
    "# SAFETY: Only enable this when safe to move the motor\n",
    "MOTOR_CONTROL_ENABLED = False\n",
    "\n",
    "if MOTOR_CONTROL_ENABLED:\n",
    "    print(\"🎮 Motor Control Helper\")\n",
    "    print(\"Use these commands while running graphs above:\\n\")\n",
    "    \n",
    "    # Small duty cycle test\n",
    "    print(\"Setting 10% throttle for 3 seconds...\")\n",
    "    vesc.set_duty_cycle(0.1)\n",
    "    time.sleep(3)\n",
    "    \n",
    "    print(\"Setting 20% throttle for 3 seconds...\")\n",
    "    vesc.set_duty_cycle(0.2)\n",
    "    time.sleep(3)\n",
    "    \n",
    "    print(\"Stopping motor...\")\n",
    "    vesc.set_duty_cycle(0)\n",
    "    \n",
    "    print(\"✅ Motor test complete!\")\n",
    "    \n",
    "else:\n",
    "    print(\"🛑 Motor control disabled for safety\")\n",
    "    print(\"Set MOTOR_CONTROL_ENABLED = True to enable motor commands\")\n",
    "    print(\"\\n📝 Available commands when enabled:\")\n",
    "    print(\"   vesc.set_duty_cycle(0.1)    # 10% throttle\")\n",
    "    print(\"   vesc.set_current(2.0)       # 2A current\")\n",
    "    print(\"   vesc.set_brake_current(1.0) # 1A braking\")\n",
    "    print(\"   vesc.set_duty_cycle(0)      # STOP\")"
   ]
  },
  {
   "cell_type": "markdown",
   "metadata": {},
   "source": [
    "## Tips for Using Real-Time Graphs\n",
    "\n",
    "### 🎯 **Getting Good Data:**\n",
    "1. **Spin the motor by hand** to see RPM and current changes\n",
    "2. **Use motor commands** (if safe) to see controlled changes\n",
    "3. **Watch voltage** - it should always show your battery level\n",
    "4. **Monitor temperatures** during extended use\n",
    "\n",
    "### 📊 **Understanding the Graphs:**\n",
    "- **Flat lines at zero** = Normal when motor isn't moving\n",
    "- **Spiky data** = Normal - motors create electrical noise\n",
    "- **Voltage slowly decreasing** = Battery discharging\n",
    "- **Temperature slowly increasing** = Components warming up\n",
    "\n",
    "### 🔧 **Troubleshooting:**\n",
    "- **Graph not updating?** Check VESC connection\n",
    "- **All zeros?** Try spinning motor manually\n",
    "- **Graph too fast/slow?** Adjust `update_rate` parameter\n",
    "- **Want longer recording?** Increase `duration` parameter\n",
    "\n",
    "### 🚀 **Advanced Ideas:**\n",
    "- Compare motor current vs battery current\n",
    "- Watch temperature rise during heavy use\n",
    "- Monitor energy recovery during braking\n",
    "- Track efficiency over time\n",
    "\n",
    "Have fun visualizing your VESC data! 📈⚡"
   ]
  }
 ],
 "metadata": {
  "kernelspec": {
   "display_name": "Python 3",
   "language": "python",
   "name": "python3"
  },
  "language_info": {
   "codemirror_mode": {
    "name": "ipython",
    "version": 3
   },
   "file_extension": ".py",
   "mimetype": "text/x-python",
   "name": "python",
   "nbconvert_exporter": "python",
   "pygments_lexer": "ipython3",
   "version": "3.11.0"
  }
 },
 "nbformat": 4,
 "nbformat_minor": 4
}