{
 "cells": [
  {
   "cell_type": "markdown",
   "metadata": {},
   "source": "# VESC Communication - Fundamentals Introduction\n\nWelcome! This notebook will teach you everything you need to know about **communicating with a VESC** (Vedder Electronic Speed Controller). You'll learn how to read data from the VESC, understand what that data means, and send commands to control the motor.\n\n## What is a VESC?\n\nA VESC is like the \"brain\" that controls an electric motor. Think of it like this:\n- **Battery** = Gas tank (stores energy)\n- **Motor** = Engine (creates motion)\n- **VESC** = Driver (controls how fast the motor spins)\n- **Your Computer** = Passenger giving directions to the driver\n\nThe VESC takes power from the battery and controls how much goes to the motor. But here's the cool part: **we can talk to the VESC!** We can ask it questions like \"How fast is the motor spinning?\" and give it commands like \"Speed up to 50%!\"\n\n## Important Notes About This Demo\n\n📋 **What You'll See in This Notebook:**\n- Most readings will show **0** or **None** when the motor isn't moving\n- **Voltage readings will work** - they show the actual battery voltage\n- **To see real data:** Manually spin the motor/wheel by hand while running the cells\n- **Advanced sensors** (ADC, servo, etc.) are not connected to anything, so they'll show 0\n\nThis is normal! The VESC only has interesting data to report when something is happening. It's like asking \"How fast is the car going?\" when it's parked - the answer is 0 until you start driving!"
  },
  {
   "cell_type": "markdown",
   "metadata": {},
   "source": [
    "## Setup - Connecting to the VESC\n",
    "\n",
    "First, let's connect to our VESC motor controller:"
   ]
  },
  {
   "cell_type": "code",
   "execution_count": null,
   "metadata": {},
   "outputs": [],
   "source": [
    "# Setup Python path to find student_api from parent directory\n",
    "import sys\n",
    "import os\n",
    "sys.path.append(os.path.dirname(os.path.dirname(os.path.abspath('__file__'))))\n",
    "\n",
    "from student_api import VESCStudentAPI  # Import the VESC student API\n",
    "import time  # Import time functions for delays\n",
    "\n",
    "# Create API instance\n",
    "vesc_api = VESCStudentAPI()  # Create a new VESC API object\n",
    "\n",
    "# Start the VESC system\n",
    "if vesc_api.start():  # Try to start the VESC communication system\n",
    "    print(\"VESC system started successfully!\")  # Confirm connection worked\n",
    "    \n",
    "    # Get controller for VESC ID 74 (as specified in README)\n",
    "    vesc = vesc_api.get_controller(74)  # Get the controller with ID 74\n",
    "    \n",
    "    if vesc:  # Check if we successfully got the controller\n",
    "        print(\"Connected to VESC controller!\")  # Confirm we got the controller\n",
    "    else:\n",
    "        print(\"Failed to get VESC controller\")  # Show error if controller not found\n",
    "else:\n",
    "    print(\"Failed to start VESC system\")  # Show error if system won't start"
   ]
  },
  {
   "cell_type": "markdown",
   "metadata": {},
   "source": [
    "## Part 1: Reading Motor Information (Telemetry)\n",
    "\n",
    "Just like a car dashboard shows you speed, fuel, and temperature, the VESC can tell us lots of information about the motor. Let's learn about each piece of information we can read."
   ]
  },
  {
   "cell_type": "markdown",
   "metadata": {},
   "source": "# Get the current motor speed\nrpm = vesc.get_rpm()\n\nprint(f\"Motor Speed: {rpm} RPM\")\n\nif rpm == 0:\n    print(\"🛑 Motor is stopped\")\n    print(\"💡 Try spinning the motor by hand to see a non-zero value!\")\nelif rpm > 0:\n    print(\"➡️ Motor is spinning forward\")\nelse:\n    print(\"⬅️ Motor is spinning backward\")"
  },
  {
   "cell_type": "code",
   "execution_count": null,
   "metadata": {},
   "outputs": [],
   "source": "# Get the current motor speed\nrpm = vesc.get_rpm()  # Ask the VESC how fast the motor is spinning\n\nprint(f\"Motor Speed: {rpm} RPM\")  # Display the speed in Revolutions Per Minute\n\nif rpm == 0:  # Check if motor is stopped\n    print(\"🛑 Motor is stopped\")  # Tell user motor isn't moving\nelif rpm > 0:  # Check if motor spins forward\n    print(\"➡️ Motor is spinning forward\")  # Tell user direction is forward\nelse:  # Otherwise motor spins backward\n    print(\"⬅️ Motor is spinning backward\")  # Tell user direction is backward"
  },
  {
   "cell_type": "markdown",
   "metadata": {},
   "source": "# Get how much electricity the motor is using\ncurrent = vesc.get_motor_current()\n\nprint(f\"Motor Current: {current} A\")\n\nif current == 0:\n    print(\"⚡ No power flowing to motor\")\n    print(\"💡 Spin the motor by hand to generate some current!\")\nelif current > 0:\n    if current < 5:\n        print(\"💚 Low power - motor working gently\")\n    elif current < 15:\n        print(\"💛 Medium power - motor working normally\")\n    else:\n        print(\"❤️ High power - motor working very hard!\")\nelse:\n    print(\"🔋 Motor is generating electricity (like a dynamo on a bike!)\")"
  },
  {
   "cell_type": "code",
   "execution_count": null,
   "metadata": {},
   "outputs": [],
   "source": "# Get how much electricity the motor is using\ncurrent = vesc.get_motor_current()  # Ask VESC for motor current in Amperes\n\nprint(f\"Motor Current: {current} A\")  # Display the current\n\nif current == 0:  # Check if no power is flowing\n    print(\"⚡ No power flowing to motor\")  # Tell user no electricity is being used\nelif current > 0:  # Check if motor is using power\n    if current < 5:  # Low power usage\n        print(\"💚 Low power - motor working gently\")  # Motor using small amount\n    elif current < 15:  # Medium power usage  \n        print(\"💛 Medium power - motor working normally\")  # Motor using normal amount\n    else:  # High power usage\n        print(\"❤️ High power - motor working very hard!\")  # Motor using lots of power\nelse:  # Negative current means generating electricity\n    print(\"🔋 Motor is generating electricity (like a dynamo on a bike!)\")  # Motor acting like generator"
  },
  {
   "cell_type": "markdown",
   "metadata": {},
   "source": "# Get the current throttle setting\nduty_cycle = vesc.get_duty_cycle()\n\nprint(f\"Duty Cycle: {duty_cycle}\")\n\nif duty_cycle == 0:\n    print(\"🛑 Throttle at 0% - motor should be stopped\")\n    print(\"💡 This will be 0 unless we send a command to change it\")\nelif duty_cycle > 0:\n    percentage = duty_cycle * 100\n    print(f\"➡️ Throttle at {percentage:.1f}% forward\")\nelse:\n    percentage = abs(duty_cycle) * 100\n    print(f\"⬅️ Throttle at {percentage:.1f}% backward\")"
  },
  {
   "cell_type": "code",
   "execution_count": null,
   "metadata": {},
   "outputs": [],
   "source": "# Get the current throttle setting\nduty_cycle = vesc.get_duty_cycle()  # Ask VESC what throttle setting is active\n\nprint(f\"Duty Cycle: {duty_cycle}\")  # Display the duty cycle (decimal from -1.0 to 1.0)\n\nif duty_cycle == 0:  # Check if throttle is at zero\n    print(\"🛑 Throttle at 0% - motor should be stopped\")  # No throttle applied\nelif duty_cycle > 0:  # Check if throttle is forward\n    percentage = duty_cycle * 100  # Convert decimal to percentage\n    print(f\"➡️ Throttle at {percentage:.1f}% forward\")  # Show forward throttle percentage\nelse:  # Throttle is backward (negative)\n    percentage = abs(duty_cycle) * 100  # Convert to positive percentage\n    print(f\"⬅️ Throttle at {percentage:.1f}% backward\")  # Show backward throttle percentage"
  },
  {
   "cell_type": "markdown",
   "metadata": {},
   "source": "# Get the battery voltage\nvoltage = vesc.get_input_voltage()\n\nprint(f\"Battery Voltage: {voltage} V\")\n\nif voltage is None:\n    print(\"❓ Cannot read voltage - check connections\")\nelif voltage < 11:\n    print(\"🔴 Low battery! Time to charge\")\nelif voltage < 13:\n    print(\"🟡 Battery getting low\")\nelse:\n    print(\"🟢 Battery level good\")\n    \nprint(\"💡 Voltage is the one reading that should always work - it shows real battery level!\")"
  },
  {
   "cell_type": "code",
   "execution_count": null,
   "metadata": {},
   "outputs": [],
   "source": "# Get the battery voltage\nvoltage = vesc.get_input_voltage()  # Ask VESC for battery voltage\n\nprint(f\"Battery Voltage: {voltage} V\")  # Display voltage in Volts\n\nif voltage is None:  # Check if voltage reading failed\n    print(\"❓ Cannot read voltage - check connections\")  # Connection problem\nelif voltage < 11:  # Check if battery is very low\n    print(\"🔴 Low battery! Time to charge\")  # Battery needs charging soon\nelif voltage < 13:  # Check if battery is getting low\n    print(\"🟡 Battery getting low\")  # Battery will need charging\nelse:  # Battery voltage is good\n    print(\"🟢 Battery level good\")  # Battery has plenty of charge"
  },
  {
   "cell_type": "markdown",
   "metadata": {},
   "source": "# Get how much electricity is being drawn from the battery\ninput_current = vesc.get_input_current()\n\nprint(f\"Battery Current: {input_current} A\")\n\nif input_current == 0:\n    print(\"🔋 No power being used from battery\")\n    print(\"💡 This will be 0 unless the motor is actively running\")\nelif input_current > 0:\n    print(f\"⚡ Drawing {input_current} A from battery\")\nelse:\n    print(f\"🔌 Putting {abs(input_current)} A back into battery (regenerative braking!)\")"
  },
  {
   "cell_type": "code",
   "execution_count": null,
   "metadata": {},
   "outputs": [],
   "source": "# Get how much electricity is being drawn from the battery\ninput_current = vesc.get_input_current()  # Ask VESC for battery current\n\nprint(f\"Battery Current: {input_current} A\")  # Display current in Amperes\n\nif input_current == 0:  # Check if no power is being used\n    print(\"🔋 No power being used from battery\")  # Battery not being drained\nelif input_current > 0:  # Check if power is being used from battery\n    print(f\"⚡ Drawing {input_current} A from battery\")  # Battery is being drained\nelse:  # Negative current means power going back to battery\n    print(f\"🔌 Putting {abs(input_current)} A back into battery (regenerative braking!)\")  # Power being recovered"
  },
  {
   "cell_type": "markdown",
   "metadata": {},
   "source": [
    "### 6. Temperature Monitoring\n",
    "\n",
    "Just like your phone can get hot when working hard, motors and controllers heat up too. We need to watch the temperature so nothing breaks!\n",
    "\n",
    "**FET Temperature** = Temperature of the electronic switches in the VESC\n",
    "**Motor Temperature** = Temperature of the motor itself"
   ]
  },
  {
   "cell_type": "code",
   "execution_count": null,
   "metadata": {},
   "outputs": [],
   "source": "# Get controller temperature (FET = electronic switches)\ncontroller_temp = vesc.get_fet_temperature()  # Ask VESC for controller temperature\nmotor_temp = vesc.get_motor_temperature()  # Ask VESC for motor temperature\n\nprint(f\"Controller Temperature: {controller_temp}°C\")  # Display controller temp in Celsius\nprint(f\"Motor Temperature: {motor_temp}°C\")  # Display motor temp in Celsius\n\n# Check if temperatures are safe\ndef check_temperature(temp, name):  # Define function to check if temperature is safe\n    if temp is None:  # Check if temperature reading failed\n        print(f\"❓ Cannot read {name} temperature\")  # Unable to get temperature\n    elif temp < 40:  # Check if temperature is cool\n        print(f\"❄️ {name} is cool ({temp}°C)\")  # Temperature is low and safe\n    elif temp < 60:  # Check if temperature is warm but normal\n        print(f\"🌡️ {name} is warm ({temp}°C) - normal\")  # Temperature is normal operating range\n    elif temp < 80:  # Check if temperature is getting hot\n        print(f\"🔥 {name} is getting hot ({temp}°C) - be careful\")  # Temperature is high, monitor closely\n    else:  # Temperature is dangerously hot\n        print(f\"🚨 {name} is too hot ({temp}°C) - STOP!\")  # Temperature is too high, stop immediately\n\ncheck_temperature(controller_temp, \"Controller\")  # Check if controller temperature is safe\ncheck_temperature(motor_temp, \"Motor\")  # Check if motor temperature is safe"
  },
  {
   "cell_type": "markdown",
   "metadata": {},
   "source": [
    "### 7. Energy Usage Tracking\n",
    "\n",
    "These functions tell us how much energy has been used over time, like a trip meter in a car.\n",
    "\n",
    "**Amp Hours (Ah)** = How much current used over time (like fuel consumed)\n",
    "**Watt Hours (Wh)** = How much power used over time (more accurate energy measurement)"
   ]
  },
  {
   "cell_type": "code",
   "execution_count": null,
   "metadata": {},
   "outputs": [],
   "source": "# Get energy usage information\namp_hours_used = vesc.get_amp_hours_consumed()  # Ask VESC how much current used over time\namp_hours_recovered = vesc.get_amp_hours_charged()  # Ask VESC how much current recovered\nwatt_hours_used = vesc.get_watt_hours_consumed()  # Ask VESC how much power used over time\nwatt_hours_recovered = vesc.get_watt_hours_charged()  # Ask VESC how much power recovered\n\nprint(\"=== Energy Usage ===\")  # Print section header\nprint(f\"Energy Used: {amp_hours_used} Ah, {watt_hours_used} Wh\")  # Display energy consumed\nprint(f\"Energy Recovered: {amp_hours_recovered} Ah, {watt_hours_recovered} Wh\")  # Display energy recovered\n\n# Calculate efficiency\nif amp_hours_used and amp_hours_used > 0:  # Check if we have valid usage data\n    recovery_percent = (amp_hours_recovered / amp_hours_used) * 100  # Calculate recovery percentage\n    print(f\"🔋 Energy recovery: {recovery_percent:.1f}%\")  # Display recovery percentage\n    \n    if recovery_percent > 10:  # Check if recovery is significant\n        print(\"♻️ Good energy recovery! (from braking)\")  # High recovery, good efficiency\n    else:  # Low recovery is normal for driving\n        print(\"⚡ Mostly using energy (normal for driving)\")  # Low recovery is expected"
  },
  {
   "cell_type": "markdown",
   "metadata": {},
   "source": "### 8. Advanced Sensors\n\nThe VESC has several other sensors that provide additional information:\n\n**Tachometer** = Counts total motor rotations (like an odometer)\n**PID Position** = Precise position control information\n**ADC Voltages** = Extra analog sensors you can connect\n**Servo Value** = Radio control input (like from a remote control)\n\n**📝 Note:** In our setup, the advanced sensors (ADC, servo) are not connected to anything, so they will show 0. The tachometer and PID position will only show interesting values when the motor moves."
  },
  {
   "cell_type": "code",
   "execution_count": null,
   "metadata": {},
   "outputs": [],
   "source": "# Get advanced sensor information\ntachometer = vesc.get_tachometer_value()  # Ask VESC for total rotation count\npid_position = vesc.get_pid_position()  # Ask VESC for precise position control info\nadc_ext = vesc.get_adc_voltage_ext()  # Ask VESC for extra analog sensor 1 voltage\nadc_ext2 = vesc.get_adc_voltage_ext2()  # Ask VESC for extra analog sensor 2 voltage\nadc_ext3 = vesc.get_adc_voltage_ext3()  # Ask VESC for extra analog sensor 3 voltage\nservo_value = vesc.get_servo_value()  # Ask VESC for remote control input value\n\nprint(\"=== Advanced Sensors ===\")  # Print section header\nprint(f\"Total Rotations: {tachometer}\")  # Display total rotations (like odometer)\nprint(f\"PID Position: {pid_position}\")  # Display precise position information\nprint(f\"Extra Sensor 1: {adc_ext} V\")  # Display extra sensor 1 voltage\nprint(f\"Extra Sensor 2: {adc_ext2} V\")  # Display extra sensor 2 voltage\nprint(f\"Extra Sensor 3: {adc_ext3} V\")  # Display extra sensor 3 voltage\nprint(f\"Remote Control: {servo_value}\")  # Display remote control input\n\nprint(\"\\n💡 Note: ADC and servo sensors show 0 because nothing is connected to them\")  # Explain why sensors show 0\nprint(\"   Tachometer counts motor rotations - spin the motor to see it change!\")  # Explain how to see tachometer change\n\n# Explain tachometer\nif tachometer:  # Check if tachometer has a value\n    if abs(tachometer) > 1000:  # Check if motor has spun many times\n        print(f\"🔄 Motor has spun {abs(tachometer)} times total!\")  # Motor has been used a lot\n    else:  # Motor hasn't spun much\n        print(f\"🔄 Motor has spun {abs(tachometer)} times (just getting started)\")  # Motor is lightly used\nelse:  # Tachometer is zero\n    print(\"🔄 Tachometer is 0 - motor hasn't moved yet\")  # Motor hasn't moved since reset"
  },
  {
   "cell_type": "markdown",
   "metadata": {},
   "source": [
    "### 9. Get All Information at Once\n",
    "\n",
    "Instead of calling each function separately, we can get all the information at once with `get_all_telemetry()`. This is faster and gives us everything organized in groups."
   ]
  },
  {
   "cell_type": "markdown",
   "execution_count": null,
   "metadata": {},
   "outputs": [],
   "source": "## Part 2: Sending Commands to the VESC (Motor Control)\n\nNow that you know how to **read information from** the VESC, let's learn how to **send commands to** the VESC to control the motor!\n\n⚠️ **SAFETY FIRST!** ⚠️\n\nThis is where we go from just \"listening\" to the VESC to actually \"talking\" to it and making things move! Always make sure:\n1. Nothing is connected to the motor that could get hurt\n2. The motor is securely mounted\n3. You have a way to quickly stop if something goes wrong\n4. Start with very small values and work your way up"
  },
  {
   "cell_type": "markdown",
   "metadata": {},
   "source": [
    "## Part 2: Controlling the Motor (Write Functions)\n",
    "\n",
    "⚠️ **SAFETY FIRST!** ⚠️\n",
    "\n",
    "Now we'll learn how to control the motor. **This is where things can move!** Always make sure:\n",
    "1. Nothing is connected to the motor that could get hurt\n",
    "2. The motor is securely mounted\n",
    "3. You have a way to quickly stop if something goes wrong\n",
    "4. Start with very small values and work your way up"
   ]
  },
  {
   "cell_type": "markdown",
   "metadata": {},
   "source": [
    "### Safety Check\n",
    "\n",
    "Before we can control the motor, let's enable motor control. **Only change this to `True` when it's safe!**"
   ]
  },
  {
   "cell_type": "code",
   "execution_count": null,
   "metadata": {},
   "outputs": [],
   "source": "# SAFETY: Set this to True only when it's safe to run the motor\nMOTOR_CONTROL_ENABLED = False  # Safety flag to prevent accidental motor movement\n\nif MOTOR_CONTROL_ENABLED:  # Check if motor control is enabled\n    print(\"🚨 MOTOR CONTROL ENABLED - Motor can now move!\")  # Warn that motor can move\n    print(\"⚠️ Make sure it's safe before running the next cells!\")  # Remind user to be safe\nelse:  # Motor control is disabled for safety\n    print(\"🛑 Motor control is DISABLED for safety\")  # Confirm motor won't move\n    print(\"   Change MOTOR_CONTROL_ENABLED = True to enable motor commands\")  # Tell user how to enable\n    print(\"   Only do this when it's safe for the motor to move!\")  # Emphasize safety"
  },
  {
   "cell_type": "markdown",
   "metadata": {},
   "source": [
    "### 1. Duty Cycle Control (Speed Control)\n",
    "\n",
    "**Duty cycle control** is like a throttle or gas pedal. It controls how much power goes to the motor.\n",
    "\n",
    "- `vesc.set_duty_cycle(0.1)` = 10% throttle (slow)\n",
    "- `vesc.set_duty_cycle(0.5)` = 50% throttle (medium)\n",
    "- `vesc.set_duty_cycle(1.0)` = 100% throttle (full speed)\n",
    "- `vesc.set_duty_cycle(-0.3)` = 30% throttle backwards\n",
    "- `vesc.set_duty_cycle(0)` = STOP"
   ]
  },
  {
   "cell_type": "code",
   "execution_count": null,
   "metadata": {},
   "outputs": [],
   "source": "if MOTOR_CONTROL_ENABLED:  # Check if motor control is safe to use\n    print(\"Testing duty cycle control...\")  # Tell user what we're doing\n    \n    # Start with a very small throttle (5%)\n    print(\"Setting throttle to 5%...\")  # Tell user we're starting motor\n    success = vesc.set_duty_cycle(0.05)  # Send 5% throttle command to VESC\n    \n    if success:  # Check if command was sent successfully\n        print(\"✅ Command sent successfully!\")  # Confirm command worked\n        \n        # Wait a moment and check what happened\n        time.sleep(2)  # Wait 2 seconds for motor to respond\n        rpm = vesc.get_rpm()  # Ask VESC for current motor speed\n        current = vesc.get_motor_current()  # Ask VESC for current motor current\n        \n        print(f\"Motor is now spinning at {rpm} RPM\")  # Show new motor speed\n        print(f\"Using {current} A of current\")  # Show how much electricity motor is using\n        \n        # Stop the motor\n        print(\"\\nStopping motor...\")  # Tell user we're stopping motor\n        vesc.set_duty_cycle(0)  # Send stop command (0% throttle)\n        print(\"✅ Motor stopped\")  # Confirm motor is stopped\n    else:  # Command failed to send\n        print(\"❌ Failed to send command\")  # Tell user command didn't work\n        \nelse:  # Motor control is disabled\n    print(\"🛑 Motor control disabled. Enable it above to test duty cycle control.\")  # Tell user control is off\n    print(\"   Example: vesc.set_duty_cycle(0.1) would set 10% throttle\")  # Show example command"
  },
  {
   "cell_type": "markdown",
   "metadata": {},
   "source": [
    "### 2. Current Control (Torque Control)\n",
    "\n",
    "**Current control** is like controlling how hard the motor pushes, regardless of speed.\n",
    "\n",
    "Think of it like this:\n",
    "- Duty cycle = \"How fast do you want to go?\"\n",
    "- Current = \"How hard do you want to push?\"\n",
    "\n",
    "Current control is better when you need precise force, like lifting something heavy or climbing a hill."
   ]
  },
  {
   "cell_type": "code",
   "execution_count": null,
   "metadata": {},
   "outputs": [],
   "source": "if MOTOR_CONTROL_ENABLED:  # Check if motor control is safe to use\n    print(\"Testing current control...\")  # Tell user what we're doing\n    \n    # Set a small current (2 Amperes)\n    print(\"Setting current to 2A (gentle push)...\")  # Tell user we're setting current\n    success = vesc.set_current(2.0)  # Send 2 Ampere current command to VESC\n    \n    if success:  # Check if command was sent successfully\n        print(\"✅ Command sent successfully!\")  # Confirm command worked\n        \n        # Wait and see what happens\n        time.sleep(2)  # Wait 2 seconds for motor to respond\n        rpm = vesc.get_rpm()  # Ask VESC for current motor speed\n        actual_current = vesc.get_motor_current()  # Ask VESC for actual current being used\n        \n        print(f\"Motor RPM: {rpm}\")  # Show motor speed\n        print(f\"Actual current: {actual_current} A\")  # Show actual current\n        print(\"Notice: With current control, the motor tries to maintain 2A\")  # Explain current control\n        print(\"        even if something tries to slow it down!\")  # Explain how current control works\n        \n        # Stop the motor\n        print(\"\\nStopping motor...\")  # Tell user we're stopping motor\n        vesc.set_current(0)  # Send stop command (0 Amperes)\n        print(\"✅ Motor stopped\")  # Confirm motor is stopped\n    else:  # Command failed to send\n        print(\"❌ Failed to send command\")  # Tell user command didn't work\n        \nelse:  # Motor control is disabled\n    print(\"🛑 Motor control disabled. Enable it above to test current control.\")  # Tell user control is off\n    print(\"   Example: vesc.set_current(5.0) would set 5A of current\")  # Show example command"
  },
  {
   "cell_type": "markdown",
   "metadata": {},
   "source": [
    "### 3. Brake Control (Regenerative Braking)\n",
    "\n",
    "**Brake current** makes the motor act like a generator, slowing it down while putting energy back into the battery!\n",
    "\n",
    "This is like:\n",
    "- A dynamo on a bicycle (creates resistance and generates electricity)\n",
    "- Regenerative braking in hybrid cars\n",
    "- Going downhill and charging your battery at the same time\n",
    "\n",
    "The motor will try to slow down and generate the amount of current you specify."
   ]
  },
  {
   "cell_type": "code",
   "execution_count": null,
   "metadata": {},
   "outputs": [],
   "source": "if MOTOR_CONTROL_ENABLED:  # Check if motor control is safe to use\n    print(\"Testing regenerative braking...\")  # Tell user what we're doing\n    \n    # First, let's spin up the motor\n    print(\"Step 1: Spinning up motor to 20% throttle...\")  # Tell user we're starting motor\n    vesc.set_duty_cycle(0.2)  # Send 20% throttle command to VESC\n    time.sleep(3)  # Let it spin up for 3 seconds\n    \n    initial_rpm = vesc.get_rpm()  # Ask VESC for current motor speed\n    print(f\"Motor is spinning at {initial_rpm} RPM\")  # Show motor speed\n    \n    # Now apply regenerative braking\n    print(\"\\nStep 2: Applying regenerative brake (2A)...\")  # Tell user we're braking\n    vesc.set_brake_current(2.0)  # Send brake command with 2 Amperes\n    \n    print(\"Watch how the motor slows down while generating electricity:\")  # Explain what will happen\n    \n    # Monitor the braking process\n    for i in range(8):  # Loop 8 times to monitor braking\n        time.sleep(0.5)  # Wait half a second between readings\n        rpm = vesc.get_rpm()  # Ask VESC for current motor speed\n        current = vesc.get_motor_current()  # Ask VESC for current motor current\n        \n        print(f\"  {i*0.5+0.5}s: {rpm} RPM, {current} A\")  # Show time, speed, and current\n        \n        if abs(rpm or 0) < 100:  # Check if motor has nearly stopped (speed less than 100 RPM)\n            print(\"  Motor has slowed down significantly!\")  # Tell user motor is nearly stopped\n            break  # Exit the monitoring loop early\n    \n    # Stop braking\n    print(\"\\nStep 3: Stopping brake...\")  # Tell user we're stopping the brake\n    vesc.set_brake_current(0)  # Send stop brake command (0 Amperes)\n    print(\"✅ Regenerative braking test complete!\")  # Confirm test is done\n    print(\"🔋 The motor acted like a generator and put energy back into the battery\")  # Explain what happened\n    \nelse:  # Motor control is disabled\n    print(\"🛑 Motor control disabled. Enable it above to test regenerative braking.\")  # Tell user control is off\n    print(\"   Example: vesc.set_brake_current(3.0) would brake with 3A of current\")  # Show example command\n    print(\"   This makes the motor slow down and generate electricity!\")  # Explain what brake command does"
  },
  {
   "cell_type": "markdown",
   "metadata": {},
   "source": [
    "### 4. Emergency Stop Function\n",
    "\n",
    "It's always good to have a quick way to stop everything!"
   ]
  },
  {
   "cell_type": "code",
   "execution_count": null,
   "metadata": {},
   "outputs": [],
   "source": "# Emergency stop - sets everything to zero\nprint(\"🚨 EMERGENCY STOP - Stopping all motor activity\")  # Tell user we're stopping everything\n\nvesc.set_duty_cycle(0)      # Stop throttle (set to 0%)\nvesc.set_current(0)         # Stop current (set to 0 Amperes)\nvesc.set_brake_current(0)   # Stop braking (set to 0 Amperes)\n\n# Check that everything stopped\ntime.sleep(1)  # Wait 1 second for commands to take effect\nrpm = vesc.get_rpm()  # Ask VESC for motor speed\ncurrent = vesc.get_motor_current()  # Ask VESC for motor current\nduty = vesc.get_duty_cycle()  # Ask VESC for duty cycle\n\nprint(f\"Final status:\")  # Print status header\nprint(f\"  RPM: {rpm}\")  # Show final motor speed\nprint(f\"  Current: {current} A\")  # Show final motor current\nprint(f\"  Duty Cycle: {duty}\")  # Show final duty cycle\nprint(\"✅ All motor commands set to zero - safe state\")  # Confirm everything is safe"
  },
  {
   "cell_type": "markdown",
   "metadata": {},
   "source": [
    "## Part 3: Summary and What You've Learned\n",
    "\n",
    "Congratulations! You now know how to:\n",
    "\n",
    "### 📊 **Read Information (Telemetry)**\n",
    "- `get_rpm()` - Motor speed (how fast it spins)\n",
    "- `get_motor_current()` - How much electricity the motor uses\n",
    "- `get_duty_cycle()` - Current throttle setting (like gas pedal position)\n",
    "- `get_input_voltage()` - Battery voltage\n",
    "- `get_input_current()` - How much electricity is taken from battery\n",
    "- `get_fet_temperature()` - Controller temperature\n",
    "- `get_motor_temperature()` - Motor temperature\n",
    "- `get_amp_hours_consumed()` - Energy used over time\n",
    "- `get_amp_hours_charged()` - Energy recovered over time\n",
    "- `get_watt_hours_consumed()` - Power used over time\n",
    "- `get_watt_hours_charged()` - Power recovered over time\n",
    "- `get_tachometer_value()` - Total rotations\n",
    "- `get_pid_position()` - Precise position\n",
    "- `get_adc_voltage_ext()` - Extra sensor 1\n",
    "- `get_adc_voltage_ext2()` - Extra sensor 2\n",
    "- `get_adc_voltage_ext3()` - Extra sensor 3\n",
    "- `get_servo_value()` - Remote control input\n",
    "- `get_all_telemetry()` - Everything at once!\n",
    "\n",
    "### 🎮 **Control the Motor**\n",
    "- `set_duty_cycle(value)` - Speed control (like gas pedal) -1.0 to 1.0\n",
    "- `set_current(value)` - Force control (how hard to push) in Amperes\n",
    "- `set_brake_current(value)` - Regenerative braking (slow down + charge battery)\n",
    "\n",
    "### 🧠 **Key Concepts You Learned**\n",
    "1. **RPM** = Revolutions Per Minute (speed)\n",
    "2. **Current** = Electricity flow (Amperes)\n",
    "3. **Voltage** = Electrical pressure (Volts)\n",
    "4. **Duty Cycle** = Percentage of power (like throttle)\n",
    "5. **Regenerative Braking** = Motor acts like generator\n",
    "6. **Temperature Monitoring** = Keep things from overheating\n",
    "7. **Energy Tracking** = Monitor consumption and recovery\n",
    "\n",
    "### 🛡️ **Safety Rules**\n",
    "1. Always check temperatures\n",
    "2. Start with small values\n",
    "3. Have an emergency stop ready\n",
    "4. Monitor battery voltage\n",
    "5. Secure the motor before testing\n",
    "\n",
    "You're now ready to build awesome electric motor projects! 🚀"
   ]
  },
  {
   "cell_type": "markdown",
   "metadata": {},
   "source": "## Part 3: Summary and What You've Learned\n\nCongratulations! You now know how to **communicate with a VESC**! You can both listen to it and talk to it:\n\n### 📊 **Reading Information from VESC (Listening)**\n- `get_rpm()` - Motor speed (how fast it spins)\n- `get_motor_current()` - How much electricity the motor uses\n- `get_duty_cycle()` - Current throttle setting (like gas pedal position)\n- `get_input_voltage()` - Battery voltage *(always works!)*\n- `get_input_current()` - How much electricity is taken from battery\n- `get_fet_temperature()` - Controller temperature\n- `get_motor_temperature()` - Motor temperature\n- `get_amp_hours_consumed()` - Energy used over time\n- `get_amp_hours_charged()` - Energy recovered over time\n- `get_watt_hours_consumed()` - Power used over time\n- `get_watt_hours_charged()` - Power recovered over time\n- `get_tachometer_value()` - Total rotations *(spin motor to see changes)*\n- `get_pid_position()` - Precise position *(changes when motor moves)*\n- `get_adc_voltage_ext()` - Extra sensor 1 *(not connected - shows 0)*\n- `get_adc_voltage_ext2()` - Extra sensor 2 *(not connected - shows 0)*\n- `get_adc_voltage_ext3()` - Extra sensor 3 *(not connected - shows 0)*\n- `get_servo_value()` - Remote control input *(not connected - shows 0)*\n- `get_all_telemetry()` - Everything at once!\n\n### 🎮 **Sending Commands to VESC (Talking)**\n- `set_duty_cycle(value)` - Speed control (like gas pedal) -1.0 to 1.0\n- `set_current(value)` - Force control (how hard to push) in Amperes\n- `set_brake_current(value)` - Regenerative braking (slow down + charge battery)\n\n### 🧠 **Key Communication Concepts You Learned**\n1. **Telemetry** = Data the VESC sends to us\n2. **Commands** = Instructions we send to the VESC\n3. **Real-time Communication** = Talking back and forth continuously\n4. **Data Only Shows When Active** = Most readings are 0 when motor isn't moving\n5. **Voltage Always Works** = Battery voltage is always available\n6. **Manual Testing** = Spin motor by hand to see data changes\n7. **Safety in Communication** = Always start with small, safe commands\n\n### 🛡️ **Communication Safety Rules**\n1. Always read before commanding\n2. Start with small command values\n3. Monitor the VESC's responses\n4. Use emergency stop when needed\n5. Understand what each data value means\n\nYou're now ready to build awesome projects that **talk to VESCs**! 🚀📡"
  }
 ],
 "metadata": {
  "kernelspec": {
   "display_name": "Python 3",
   "language": "python",
   "name": "python3"
  },
  "language_info": {
   "codemirror_mode": {
    "name": "ipython",
    "version": 3
   },
   "file_extension": ".py",
   "mimetype": "text/x-python",
   "name": "python",
   "nbconvert_exporter": "python",
   "pygments_lexer": "ipython3",
   "version": "3.11.0"
  }
 },
 "nbformat": 4,
 "nbformat_minor": 4
}