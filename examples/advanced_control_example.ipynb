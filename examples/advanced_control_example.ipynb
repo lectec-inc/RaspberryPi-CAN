{
 "cells": [
  {
   "cell_type": "markdown",
   "metadata": {},
   "source": "# VESC Motor Controller - Advanced Control Examples\n\nThis notebook demonstrates advanced motor control techniques including current control, data logging, and sensor monitoring."
  },
  {
   "cell_type": "markdown",
   "metadata": {},
   "source": [
    "## Setup"
   ]
  },
  {
   "cell_type": "code",
   "execution_count": null,
   "metadata": {},
   "outputs": [],
   "source": "from student_api import VESCStudentAPI\nimport time\nimport matplotlib.pyplot as plt\nimport numpy as np\nfrom datetime import datetime\n\n# Create API instance (silent by default)\nvesc_api = VESCStudentAPI()\n\n# Start the VESC system\nif vesc_api.start():\n    print(\"VESC system started successfully!\")\n    \n    # Get controller for VESC ID 74\n    vesc = vesc_api.get_controller(74)\n    \n    if vesc:\n        print(\"Connected to VESC controller!\")\n    else:\n        print(\"Failed to get VESC controller\")\nelse:\n    print(\"Failed to start VESC system\")"
  },
  {
   "cell_type": "markdown",
   "metadata": {},
   "source": [
    "## Current Control Mode\n",
    "\n",
    "Demonstrates precise current control for torque management:"
   ]
  },
  {
   "cell_type": "code",
   "execution_count": null,
   "metadata": {},
   "outputs": [],
   "source": [
    "# SAFETY CHECK\n",
    "MOTOR_CONTROL_ENABLED = False  # Set to True to enable motor commands\n",
    "\n",
    "if MOTOR_CONTROL_ENABLED:\n",
    "    print(\"Testing current control...\")\n",
    "    \n",
    "    # Set different current levels\n",
    "    current_levels = [1.0, 2.0, 3.0, 2.0, 1.0, 0.0]  # Amperes\n",
    "    \n",
    "    for target_current in current_levels:\n",
    "        print(f\"Setting current to {target_current}A...\")\n",
    "        vesc.set_current(target_current)\n",
    "        \n",
    "        time.sleep(1)\n",
    "        \n",
    "        # Read actual values\n",
    "        actual_current = vesc.get_motor_current()\n",
    "        rpm = vesc.get_rpm()\n",
    "        \n",
    "        print(f\"  Actual current: {actual_current}A, RPM: {rpm}\")\n",
    "    \n",
    "    # Stop\n",
    "    vesc.set_current(0)\n",
    "    print(\"Current control test complete.\")\n",
    "else:\n",
    "    print(\"Current control test skipped (safety mode).\")"
   ]
  },
  {
   "cell_type": "markdown",
   "metadata": {},
   "source": [
    "## Data Logging and Visualization\n",
    "\n",
    "Collect telemetry data over time and visualize it:"
   ]
  },
  {
   "cell_type": "code",
   "execution_count": null,
   "metadata": {},
   "outputs": [],
   "source": [
    "# Data logging\n",
    "def log_vesc_data(duration_seconds=30, sample_rate=10):\n",
    "    \"\"\"Log VESC data for analysis\"\"\"\n",
    "    \n",
    "    timestamps = []\n",
    "    rpm_data = []\n",
    "    current_data = []\n",
    "    voltage_data = []\n",
    "    temp_data = []\n",
    "    \n",
    "    print(f\"Logging data for {duration_seconds} seconds at {sample_rate}Hz...\")\n",
    "    \n",
    "    start_time = time.time()\n",
    "    sample_interval = 1.0 / sample_rate\n",
    "    \n",
    "    while time.time() - start_time < duration_seconds:\n",
    "        current_time = time.time() - start_time\n",
    "        \n",
    "        # Collect data\n",
    "        rpm = vesc.get_rpm() or 0\n",
    "        current = vesc.get_motor_current() or 0\n",
    "        voltage = vesc.get_input_voltage() or 0\n",
    "        temp = vesc.get_motor_temperature() or 0\n",
    "        \n",
    "        timestamps.append(current_time)\n",
    "        rpm_data.append(rpm)\n",
    "        current_data.append(current)\n",
    "        voltage_data.append(voltage)\n",
    "        temp_data.append(temp)\n",
    "        \n",
    "        time.sleep(sample_interval)\n",
    "    \n",
    "    return {\n",
    "        'time': timestamps,\n",
    "        'rpm': rpm_data,\n",
    "        'current': current_data,\n",
    "        'voltage': voltage_data,\n",
    "        'temperature': temp_data\n",
    "    }\n",
    "\n",
    "# Log data for 15 seconds\n",
    "data = log_vesc_data(duration_seconds=15, sample_rate=5)\n",
    "print(f\"Collected {len(data['time'])} data points.\")"
   ]
  },
  {
   "cell_type": "code",
   "execution_count": null,
   "metadata": {},
   "outputs": [],
   "source": [
    "# Visualize the logged data\n",
    "fig, axes = plt.subplots(2, 2, figsize=(12, 8))\n",
    "fig.suptitle('VESC Telemetry Data Over Time')\n",
    "\n",
    "# RPM plot\n",
    "axes[0,0].plot(data['time'], data['rpm'])\n",
    "axes[0,0].set_title('Motor RPM')\n",
    "axes[0,0].set_xlabel('Time (s)')\n",
    "axes[0,0].set_ylabel('RPM')\n",
    "axes[0,0].grid(True)\n",
    "\n",
    "# Current plot\n",
    "axes[0,1].plot(data['time'], data['current'])\n",
    "axes[0,1].set_title('Motor Current')\n",
    "axes[0,1].set_xlabel('Time (s)')\n",
    "axes[0,1].set_ylabel('Current (A)')\n",
    "axes[0,1].grid(True)\n",
    "\n",
    "# Voltage plot\n",
    "axes[1,0].plot(data['time'], data['voltage'])\n",
    "axes[1,0].set_title('Input Voltage')\n",
    "axes[1,0].set_xlabel('Time (s)')\n",
    "axes[1,0].set_ylabel('Voltage (V)')\n",
    "axes[1,0].grid(True)\n",
    "\n",
    "# Temperature plot\n",
    "axes[1,1].plot(data['time'], data['temperature'])\n",
    "axes[1,1].set_title('Motor Temperature')\n",
    "axes[1,1].set_xlabel('Time (s)')\n",
    "axes[1,1].set_ylabel('Temperature (°C)')\n",
    "axes[1,1].grid(True)\n",
    "\n",
    "plt.tight_layout()\n",
    "plt.show()\n",
    "\n",
    "# Print statistics\n",
    "print(\"\\n=== Data Statistics ===\")\n",
    "print(f\"Average RPM: {np.mean(data['rpm']):.1f}\")\n",
    "print(f\"Average Current: {np.mean(data['current']):.2f}A\")\n",
    "print(f\"Average Voltage: {np.mean(data['voltage']):.1f}V\")\n",
    "print(f\"Max Temperature: {np.max(data['temperature']):.1f}°C\")"
   ]
  },
  {
   "cell_type": "code",
   "execution_count": null,
   "metadata": {},
   "outputs": [],
   "source": "if MOTOR_CONTROL_ENABLED:\n    print(\"Testing brake control...\")\n    \n    # First, spin up the motor\n    print(\"Spinning up motor...\")\n    vesc.set_duty_cycle(0.2)\n    time.sleep(3)\n    \n    initial_rpm = vesc.get_rpm()\n    print(f\"Initial RPM: {initial_rpm}\")\n    \n    # Apply regenerative braking\n    print(\"Applying regenerative brake...\")\n    vesc.set_brake_current(2.0)  # 2A braking current\n    \n    # Monitor braking\n    for i in range(10):\n        rpm = vesc.get_rpm()\n        current = vesc.get_motor_current()\n        print(f\"Braking - RPM: {rpm}, Current: {current}A\")\n        time.sleep(0.5)\n        \n        if abs(rpm or 0) < 100:  # Nearly stopped\n            break\n    \n    # Stop braking\n    vesc.set_brake_current(0)\n    print(\"Braking complete.\")\nelse:\n    print(\"Brake control test skipped (safety mode).\")"
  },
  {
   "cell_type": "markdown",
   "metadata": {},
   "source": "## Braking Control\n\nDemonstrates regenerative braking control:"
  },
  {
   "cell_type": "code",
   "execution_count": null,
   "metadata": {},
   "outputs": [],
   "source": [
    "# Read all sensor data\n",
    "print(\"=== Complete Sensor Reading ===\")\n",
    "\n",
    "# Get all telemetry\n",
    "telemetry = vesc.get_all_telemetry()\n",
    "\n",
    "# Display organized data\n",
    "print(\"\\n--- Motor Status ---\")\n",
    "motor = telemetry['motor']\n",
    "print(f\"RPM: {motor['rpm']}\")\n",
    "print(f\"Current: {motor['current']} A\")\n",
    "print(f\"Duty Cycle: {motor['duty_cycle']}\")\n",
    "\n",
    "print(\"\\n--- Power Status ---\")\n",
    "power = telemetry['power']\n",
    "print(f\"Input Voltage: {power['input_voltage']} V\")\n",
    "print(f\"Input Current: {power['input_current']} A\")\n",
    "print(f\"Energy Consumed: {power['amp_hours_consumed']} Ah\")\n",
    "print(f\"Energy Recovered: {power['amp_hours_charged']} Ah\")\n",
    "\n",
    "print(\"\\n--- Temperature Status ---\")\n",
    "temps = telemetry['temperatures']\n",
    "print(f\"FET Temperature: {temps['fet']}°C\")\n",
    "print(f\"Motor Temperature: {temps['motor']}°C\")\n",
    "\n",
    "print(\"\\n--- Sensor Inputs ---\")\n",
    "sensors = telemetry['sensors']\n",
    "print(f\"Tachometer: {sensors['tachometer']}\")\n",
    "print(f\"PID Position: {sensors['pid_position']}\")\n",
    "print(f\"ADC EXT: {sensors['adc_ext']} V\")\n",
    "print(f\"ADC EXT2: {sensors['adc_ext2']} V\")\n",
    "print(f\"ADC EXT3: {sensors['adc_ext3']} V\")\n",
    "print(f\"Servo/PPM: {sensors['servo_value']}\")"
   ]
  },
  {
   "cell_type": "markdown",
   "metadata": {},
   "source": [
    "## Data Export\n",
    "\n",
    "Save collected data for further analysis:"
   ]
  },
  {
   "cell_type": "code",
   "execution_count": null,
   "metadata": {},
   "outputs": [],
   "source": [
    "import json\n",
    "import csv\n",
    "\n",
    "# Save telemetry snapshot as JSON\n",
    "timestamp = datetime.now().strftime(\"%Y%m%d_%H%M%S\")\n",
    "filename_json = f\"vesc_telemetry_{timestamp}.json\"\n",
    "\n",
    "with open(filename_json, 'w') as f:\n",
    "    json.dump(telemetry, f, indent=2)\n",
    "\n",
    "print(f\"Telemetry data saved to {filename_json}\")\n",
    "\n",
    "# Save logged data as CSV\n",
    "if 'data' in locals():\n",
    "    filename_csv = f\"vesc_timeseries_{timestamp}.csv\"\n",
    "    \n",
    "    with open(filename_csv, 'w', newline='') as f:\n",
    "        writer = csv.writer(f)\n",
    "        writer.writerow(['Time', 'RPM', 'Current', 'Voltage', 'Temperature'])\n",
    "        \n",
    "        for i in range(len(data['time'])):\n",
    "            writer.writerow([\n",
    "                data['time'][i],\n",
    "                data['rpm'][i],\n",
    "                data['current'][i],\n",
    "                data['voltage'][i],\n",
    "                data['temperature'][i]\n",
    "            ])\n",
    "    \n",
    "    print(f\"Time series data saved to {filename_csv}\")\n",
    "\n",
    "print(\"\\nData export complete!\")"
   ]
  },
  {
   "cell_type": "markdown",
   "metadata": {},
   "source": [
    "## Final Safety Check\n",
    "\n",
    "Always ensure the motor is stopped:"
   ]
  },
  {
   "cell_type": "code",
   "execution_count": null,
   "metadata": {},
   "outputs": [],
   "source": "# Ensure motor is completely stopped\nvesc.set_duty_cycle(0)\nvesc.set_current(0)\nvesc.set_brake_current(0)\n\n# Verify it's stopped\ntime.sleep(1)\nfinal_rpm = vesc.get_rpm()\nfinal_current = vesc.get_motor_current()\n\nprint(f\"Final Status:\")\nprint(f\"  RPM: {final_rpm}\")\nprint(f\"  Current: {final_current} A\")\nprint(\"\\n✅ Advanced control session complete. Motor is stopped.\")"
  }
 ],
 "metadata": {
  "kernelspec": {
   "display_name": "Python 3",
   "language": "python",
   "name": "python3"
  },
  "language_info": {
   "codemirror_mode": {
    "name": "ipython",
    "version": 3
   },
   "file_extension": ".py",
   "mimetype": "text/x-python",
   "name": "python",
   "nbconvert_exporter": "python",
   "pygments_lexer": "ipython3",
   "version": "3.11.0"
  }
 },
 "nbformat": 4,
 "nbformat_minor": 4
}