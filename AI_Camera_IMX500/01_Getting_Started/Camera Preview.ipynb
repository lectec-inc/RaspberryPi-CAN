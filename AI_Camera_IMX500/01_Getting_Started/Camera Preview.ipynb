{
 "cells": [
  {
   "cell_type": "code",
   "id": "7bc00a65",
   "metadata": {},
   "outputs": [],
   "source": "# 🎥 Hands-On: Your First AI Camera Experience\n\n**Time to see AI vision in action!** 🚀\n\nNow that you understand the concepts, let's experience the magic of real-time AI processing with your IMX500 camera.\n\n## 🎯 What You'll Experience\n\n- **Live camera preview** streaming directly to your notebook\n- **Real-time performance** of your AI system\n- **Interactive controls** to start and stop the preview\n- **Preparation** for AI detection in the next level\n\n## 🔧 Camera Preview Setup\n\nLet's start with a basic camera preview to verify everything is working:"
  },
  {
   "cell_type": "code",
   "id": "c5tbj79ranq",
   "source": "import subprocess\nimport cv2\nimport numpy as np\nfrom IPython.display import display, clear_output, Image\nimport ipywidgets as widgets\nimport threading\nimport time\n\nprint(\"🎥 AI CAMERA INITIALIZATION\")\nprint(\"=\" * 30)\nprint(\"\\n🔧 Preparing your IMX500 camera for preview...\")\n\n# ── 0) Kill any stray libcamera processes & unload bcm2835_v4l2 so libcamera has exclusive access\nprint(\"🧹 Cleaning up any existing camera processes...\")\nfor p in (\"libcamera-vid\",\"libcamera-still\",\"libcamera-raw\"):\n    subprocess.run([\"pkill\",\"-9\",p], stderr=subprocess.DEVNULL)\nsubprocess.run([\"sudo\",\"rmmod\",\"bcm2835_v4l2\"], stderr=subprocess.DEVNULL)\n\nprint(\"✅ Camera resources prepared\")\nprint(\"\\n🎮 Interactive camera preview controls ready!\")\nprint(\"💡 Click the button below to start/stop the preview\")",
   "metadata": {},
   "outputs": []
  },
  {
   "cell_type": "code",
   "id": "hzvrtexk76b",
   "source": "# Stop button in notebook\nstopButton = widgets.ToggleButton(\n    value=False,\n    description='▶️ Start Preview',\n    button_style='success',\n    icon='play',\n    layout=widgets.Layout(width='200px', height='40px')\n)\n\n# Status display\nstatus_label = widgets.HTML(\n    value=\"<b>📷 Camera Status:</b> Ready to start\",\n    layout=widgets.Layout(margin='10px 0px')\n)\n\ndisplay(widgets.VBox([status_label, stopButton]))\n\ndef camera_preview():\n    \\\"\\\"\\\"Main camera preview function\\\"\\\"\\\"\n    # Update button appearance when running\n    stopButton.description = '⏹️ Stop Preview'\n    stopButton.button_style = 'danger'\n    stopButton.icon = 'stop'\n    status_label.value = \"<b>📷 Camera Status:</b> <span style='color: green'>● LIVE</span>\"\n    \n    # Use libcamera-vid to stream MJPEG into stdout\n    cmd = [    \n        \"libcamera-vid\",\n        \"--inline\",           # Needed for streaming\n        \"-t\", \"0\",            # No timeout\n        \"--width\", \"640\",     # Moderate resolution for good performance\n        \"--height\", \"480\",\n        \"--codec\", \"mjpeg\",\n        \"-o\", \"-\"             # Output to stdout\n    ]\n    \n    try:\n        proc = subprocess.Popen(cmd, stdout=subprocess.PIPE, stderr=subprocess.DEVNULL)\n        \n        data = b\"\"\n        display_handle = display(None, display_id=True)\n        frame_count = 0\n        start_time = time.time()\n        \n        while not stopButton.value:\n            chunk = proc.stdout.read(1024)\n            if not chunk:\n                break\n            data += chunk\n            a = data.find(b'\\\\xff\\\\xd8')  # JPEG start\n            b = data.find(b'\\\\xff\\\\xd9')  # JPEG end\n            if a != -1 and b != -1:\n                jpg = data[a:b+2]\n                data = data[b+2:]\n                frame = cv2.imdecode(np.frombuffer(jpg, dtype=np.uint8), cv2.IMREAD_COLOR)\n                \n                # Add frame counter and FPS overlay\n                frame_count += 1\n                if frame_count % 30 == 0:  # Update every 30 frames\n                    elapsed = time.time() - start_time\n                    fps = frame_count / elapsed if elapsed > 0 else 0\n                    status_label.value = f\"<b>📷 Camera Status:</b> <span style='color: green'>● LIVE</span> | Frames: {frame_count} | FPS: {fps:.1f}\"\n                \n                _, jpeg = cv2.imencode('.jpg', frame)\n                display_handle.update(Image(data=jpeg.tobytes()))\n                \n    except Exception as e:\n        status_label.value = f\"<b>📷 Camera Status:</b> <span style='color: red'>● ERROR - {str(e)}</span>\"\n    finally:\n        proc.terminate()\n        # Reset button appearance\n        stopButton.description = '▶️ Start Preview'\n        stopButton.button_style = 'success'\n        stopButton.icon = 'play'\n        status_label.value = \"<b>📷 Camera Status:</b> Stopped\"\n\ndef on_button_change(change):\n    \\\"\\\"\\\"Handle button state changes\\\"\\\"\\\"\n    if change['new']:  # Button was pressed (start preview)\n        # Start preview in a separate thread\n        threading.Thread(target=camera_preview, daemon=True).start()\n    # When button is released, the preview loop will detect stopButton.value=False and stop\n\nstopButton.observe(on_button_change, names='value')",
   "metadata": {},
   "outputs": []
  },
  {
   "cell_type": "markdown",
   "id": "9364vcqv9ej",
   "source": "## 🎉 Congratulations - You're Seeing Through AI Eyes!\\n\\n**What you're experiencing right now is remarkable:**\\n\\n### 📊 Technical Achievement\\n- **Real-time video processing** at 20+ frames per second\\n- **Direct sensor-to-notebook streaming** with minimal latency\\n- **Professional-grade image quality** from a credit card-sized sensor\\n- **Headless operation** perfect for remote development\\n\\n### 🚀 What's Next: AI Intelligence Layer\\n\\nRight now you're seeing the **raw visual input** that your AI system will analyze. In Level 2, this same video stream will be enhanced with:\\n\\n- **🎯 Object Detection**: Boxes around detected people, cars, animals\\n- **📊 Confidence Scores**: How certain the AI is about each detection\\n- **📍 Precise Coordinates**: Exact pixel locations of every object\\n- **🏷️ Classification Labels**: \\\"Person\\\", \\\"Car\\\", \\\"Dog\\\", \\\"Stop Sign\\\", etc.\\n\\n### 💡 Professional Insight\\n\\n**You've just accomplished what would have required expensive equipment and complex setup just a few years ago.** The IMX500 represents a revolution in accessible AI technology.\\n\\n**This simple preview is the foundation** for every advanced AI application you'll build in this course.\\n\\n---\\n\\n## 🎯 Ready for Real AI?\\n\\n**Your camera preview is working perfectly!** \\n\\nTime to add the intelligence layer and see your first real-time object detection.\\n\\n**Next Level**: `02_First_AI_Detection/` - Transform this video stream into intelligent vision!\"",
   "metadata": {}
  },
  {
   "cell_type": "code",
   "execution_count": null,
   "id": "6c4f7d8c",
   "metadata": {},
   "outputs": [],
   "source": []
  }
 ],
 "metadata": {
  "kernelspec": {
   "display_name": "Python 3 (ipykernel)",
   "language": "python",
   "name": "python3"
  },
  "language_info": {
   "codemirror_mode": {
    "name": "ipython",
    "version": 3
   },
   "file_extension": ".py",
   "mimetype": "text/x-python",
   "name": "python",
   "nbconvert_exporter": "python",
   "pygments_lexer": "ipython3",
   "version": "3.11.2"
  }
 },
 "nbformat": 4,
 "nbformat_minor": 5
}