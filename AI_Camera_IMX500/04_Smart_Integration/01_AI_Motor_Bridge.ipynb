{
 "cells": [
  {
   "cell_type": "markdown",
   "metadata": {
    "id": "title"
   },
   "source": [
    "# 🌉 AI + Motor Bridge: Your First Smart Integration\n",
    "\n",
    "**Welcome to Level 4!** 🚀 This is where everything comes together.\n",
    "\n",
    "You've mastered AI detection and hardware integration. Now you'll combine **AI vision intelligence** with **VESC motor control** to build genuinely smart systems.\n",
    "\n",
    "## 🎯 What You'll Build\n",
    "\n",
    "- **Smart Vehicle System**: Professional architecture combining both sensors\n",
    "- **Intelligent Decision Making**: AI + motor data → smart actions\n",
    "- **Real-time Processing**: 10 FPS decision loop with both data streams\n",
    "- **Safety Integration**: Emergency responses based on combined data\n",
    "\n",
    "## 🧠 Professional Skills You'll Develop\n",
    "\n",
    "- **Multi-sensor Fusion**: Industry-standard approach for complex systems\n",
    "- **System Architecture**: How professionals structure AI + hardware integration\n",
    "- **Real-time Decision Logic**: Critical thinking for autonomous systems\n",
    "- **Safety-Critical Programming**: Code that must work reliably\n",
    "\n",
    "---\n",
    "\n",
    "## 🏗️ Understanding Smart System Architecture\n",
    "\n",
    "**Let's see how professional AI systems are structured:**"
   ]
  },
  {
   "cell_type": "code",
   "execution_count": null,
   "metadata": {
    "id": "architecture-overview"
   },
   "outputs": [],
   "source": [
    "print(\"🏗️ SMART VEHICLE SYSTEM ARCHITECTURE\")\n",
    "print(\"=\" * 45)\n",
    "print(\"\\n📊 How Professional AI + Hardware Systems Work:\")\n",
    "\n",
    "# System architecture explanation\n",
    "architecture_layers = {\n",
    "    \"🎯 Sensor Layer\": {\n",
    "        \"components\": [\"IMX500 AI Camera\", \"VESC Motor Controller\"],\n",
    "        \"function\": \"Collect raw data from environment and vehicle\",\n",
    "        \"output\": \"Detection data + motor telemetry\",\n",
    "        \"frequency\": \"30 FPS (AI) + 100 Hz (motor)\"\n",
    "    },\n",
    "    \"🧠 Intelligence Layer\": {\n",
    "        \"components\": [\"Object Detection AI\", \"Decision Engine\", \"Safety Monitor\"],\n",
    "        \"function\": \"Process sensor data and make intelligent decisions\", \n",
    "        \"output\": \"SafetyDecision objects with actions and reasoning\",\n",
    "        \"frequency\": \"10 FPS (balanced performance)\"\n",
    "    },\n",
    "    \"⚡ Action Layer\": {\n",
    "        \"components\": [\"Motor Control\", \"Safety Systems\", \"Alert Mechanisms\"],\n",
    "        \"function\": \"Execute intelligent decisions in real world\",\n",
    "        \"output\": \"Physical actions: braking, speed control, alerts\",\n",
    "        \"frequency\": \"Real-time response (<100ms)\"\n",
    "    },\n",
    "    \"📊 Monitoring Layer\": {\n",
    "        \"components\": [\"System Status\", \"Performance Metrics\", \"Safety Logs\"],\n",
    "        \"function\": \"Track system health and decision quality\",\n",
    "        \"output\": \"Logs, diagnostics, performance data\",\n",
    "        \"frequency\": \"Continuous background monitoring\"\n",
    "    }\n",
    "}\n",
    "\n",
    "for layer_name, details in architecture_layers.items():\n",
    "    print(f\"\\n{layer_name}:\")\n",
    "    print(f\"   🔧 Components: {', '.join(details['components'])}\")\n",
    "    print(f\"   🎯 Function: {details['function']}\")\n",
    "    print(f\"   📤 Output: {details['output']}\")\n",
    "    print(f\"   ⚡ Frequency: {details['frequency']}\")\n",
    "\n",
    "print(\"\\n\\n🔄 DATA FLOW PIPELINE:\")\n",
    "print(\"=\" * 25)\n",
    "data_flow = [\n",
    "    \"1. 📷 AI Camera detects objects → DetectionData(person, 89% confidence, bbox)\",\n",
    "    \"2. 🚗 VESC reports status → MotorData(speed=15.5 km/h, current=2.3A)\", \n",
    "    \"3. 🧠 Intelligence combines data → 'Person detected at 15.5 km/h = slow down'\",\n",
    "    \"4. ⚡ Safety system acts → set_brake(0.3) + speed_limit(10 km/h)\",\n",
    "    \"5. 📊 System logs decision → 'Pedestrian safety protocol activated'\"\n",
    "]\n",
    "\n",
    "for step in data_flow:\n",
    "    print(f\"   {step}\")\n",
    "\n",
    "print(\"\\n💡 This is EXACTLY how Tesla, Waymo, and other autonomous systems work!\")\n",
    "print(\"🎓 You're learning professional-grade AI system architecture!\")"
   ]
  },
  {
   "cell_type": "markdown",
   "metadata": {
    "id": "system-initialization"
   },
   "source": [
    "## 🚀 Initialize Your Smart Vehicle System\n",
    "\n",
    "**Let's create your first professional AI + hardware integration:**"
   ]
  },
  {
   "cell_type": "code",
   "metadata": {
    "id": "import-and-init"
   },
   "outputs": [],
   "source": "# Import the Smart Vehicle System with error handling\nimport sys\nimport os\nimport time\n\n# Add the current directory to Python path\nsys.path.append(os.path.dirname(os.path.abspath('.')))\n\ntry:\n    from smart_vehicle_system import SmartVehicleSystem, SafetyLevel, DetectionPriority\n    system_available = True\nexcept ImportError as e:\n    print(f\"⚠️ Smart Vehicle System import failed: {e}\")\n    print(\"🔧 Make sure smart_vehicle_system.py is in the same directory\")\n    system_available = False\n\ntry:\n    from IPython.display import display, clear_output\n    import ipywidgets as widgets\n    widgets_available = True\nexcept ImportError:\n    print(\"⚠️ IPython widgets not available - using basic display\")\n    widgets_available = False\n    display = lambda x: print(x)\n    clear_output = lambda wait=True: None\n\nprint(\"🚗 INITIALIZING SMART VEHICLE SYSTEM\")\nprint(\"=\" * 40)\nprint(\"\\\\n🔧 Setting up professional AI + motor integration...\")\n\nif system_available:\n    # Initialize system in simulation mode for learning\n    # Set enable_motor=True when you have VESC hardware connected\n    smart_vehicle = SmartVehicleSystem(\n        enable_motor=False,  # Simulation mode for learning\n        debug=True           # Detailed logging for education\n    )\n    \n    print(\"\\\\n✅ Smart Vehicle System initialized!\")\n    print(\"\\\\n📊 System Status:\")\n    status = smart_vehicle.get_system_status()\n    for key, value in status.items():\n        print(f\"   {key}: {value}\")\n    \n    print(\"\\\\n🎯 Ready for intelligent multi-sensor processing!\")\nelse:\n    print(\"\\\\n❌ Cannot initialize Smart Vehicle System\")\n    print(\"🔧 Please ensure smart_vehicle_system.py is available and working\")"
  },
  {
   "cell_type": "markdown",
   "metadata": {
    "id": "data-simulation"
   },
   "source": [
    "## 🧪 Understanding Multi-Sensor Data\n",
    "\n",
    "**Before we combine sensors, let's understand what data each provides:**"
   ]
  },
  {
   "cell_type": "code",
   "metadata": {
    "id": "sensor-data-demo"
   },
   "outputs": [],
   "source": "print(\"🧪 MULTI-SENSOR DATA DEMONSTRATION\")\nprint(\"=\" * 40)\nprint(\"\\\\n📊 Let's see what data each sensor provides:\")\n\nif 'smart_vehicle' in globals() and system_available:\n    # Get AI detection data\n    print(\"\\\\n📷 AI CAMERA DETECTION DATA:\")\n    print(\"-\" * 30)\n    detections = smart_vehicle.get_ai_detections()\n    \n    if detections:\n        for i, detection in enumerate(detections):\n            print(f\"   Detection {i+1}:\")\n            print(f\"      Object: {detection.object_name}\")\n            print(f\"      Confidence: {detection.confidence:.1%}\")\n            print(f\"      Location: {detection.bbox}\")\n            print(f\"      Priority: {detection.priority.name}\")\n            print(f\"      Timestamp: {detection.timestamp:.2f}\")\n    else:\n        print(\"   No detections in current frame\")\n    \n    # Get motor data\n    print(\"\\\\n🚗 VESC MOTOR TELEMETRY DATA:\")\n    print(\"-\" * 30)\n    motor_data = smart_vehicle.get_motor_data()\n    \n    if motor_data:\n        print(f\"   Speed: {motor_data.speed_kmh:.1f} km/h\")\n        print(f\"   Motor Current: {motor_data.motor_current:.1f} A\")\n        print(f\"   Battery: {motor_data.battery_voltage:.1f} V\")\n        print(f\"   Temperature: {motor_data.temperature:.1f}°C\")\n        print(f\"   Fault Code: {motor_data.fault_code}\")\n        print(f\"   Timestamp: {motor_data.timestamp:.2f}\")\n    else:\n        print(\"   No motor data available\")\nelse:\n    print(\"\\\\n⚠️ Smart Vehicle System not available\")\n    print(\"   This demo requires the SmartVehicleSystem to be initialized\")\n\nprint(\"\\\\n\\\\n🧠 THE INTELLIGENCE CHALLENGE:\")\nprint(\"=\" * 32)\nprint(\"🤔 How do we combine these data streams intelligently?\")\nprint(\"\")\nprint(\"Examples of smart decisions:\")\nprint(\"   • Person detected + Speed > 20 km/h → Slow down for safety\")\nprint(\"   • Stop sign detected + Speed > 5 km/h → Emergency brake\")\nprint(\"   • No detections + Normal speed → Continue safely\")\nprint(\"   • Motor overheating + Any detection → Prioritize motor safety\")\n\nprint(\"\\\\n🎯 This is where your AI engineering skills create real value!\")"
  },
  {
   "cell_type": "markdown",
   "metadata": {
    "id": "decision-engine"
   },
   "source": [
    "## 🧠 The Decision Engine: Where Intelligence Happens\n",
    "\n",
    "**Let's see how the system makes intelligent decisions using both data streams:**"
   ]
  },
  {
   "cell_type": "code",
   "metadata": {
    "id": "decision-demo"
   },
   "outputs": [],
   "source": "print(\"🧠 INTELLIGENT DECISION ENGINE DEMONSTRATION\")\nprint(\"=\" * 50)\nprint(\"\\\\n🎯 Watch how the system combines AI + motor data to make smart decisions:\")\n\nif 'smart_vehicle' in globals() and system_available:\n    # Import required classes locally to avoid import errors\n    from smart_vehicle_system import DetectionData, MotorData, DetectionPriority\n    \n    # Simulate different scenarios\n    scenarios = [\n        {\n            \"name\": \"🚶 Pedestrian Near High-Speed Vehicle\",\n            \"detections\": [{\n                \"object_name\": \"person\",\n                \"confidence\": 0.92,\n                \"bbox\": (300, 200, 150, 300),  # Large bbox = close\n                \"priority\": DetectionPriority.HIGH\n            }],\n            \"motor_speed\": 25.0,  # Fast speed\n            \"expected\": \"Emergency slow down\"\n        },\n        {\n            \"name\": \"🛑 Stop Sign at Medium Speed\",\n            \"detections\": [{\n                \"object_name\": \"stop sign\", \n                \"confidence\": 0.95,\n                \"bbox\": (400, 150, 100, 100),\n                \"priority\": DetectionPriority.CRITICAL\n            }],\n            \"motor_speed\": 15.0,  # Moderate speed\n            \"expected\": \"Prepare to stop\"\n        },\n        {\n            \"name\": \"✅ Clear Road at Safe Speed\",\n            \"detections\": [],  # No detections\n            \"motor_speed\": 12.0,  # Safe speed\n            \"expected\": \"Continue safely\"\n        }\n    ]\n    \n    for scenario in scenarios:\n        print(f\"\\\\n{scenario['name']}:\")\n        print(\"-\" * 40)\n        \n        # Create detection objects\n        detections = []\n        for det_data in scenario['detections']:\n            detection = DetectionData(\n                object_name=det_data['object_name'],\n                confidence=det_data['confidence'],\n                bbox=det_data['bbox'],\n                priority=det_data['priority'],\n                timestamp=time.time()\n            )\n            detections.append(detection)\n        \n        # Create motor data\n        motor_data = MotorData(\n            speed_kmh=scenario['motor_speed'],\n            motor_current=2.5,\n            battery_voltage=42.0,\n            temperature=35.0,\n            fault_code=0,\n            timestamp=time.time()\n        )\n        \n        # Make decision\n        decision = smart_vehicle.make_safety_decision(detections, motor_data)\n        \n        # Display results\n        print(f\"   📊 Input: {len(detections)} detections, {motor_data.speed_kmh} km/h\")\n        print(f\"   🧠 Decision: {decision.action}\")\n        print(f\"   💭 Reasoning: {decision.reason}\")\n        print(f\"   🚨 Safety Level: {decision.safety_level.value.upper()}\")\n        print(f\"   🛑 Brake Force: {decision.brake_force:.1f}\")\n        if decision.speed_limit:\n            print(f\"   🏃 Speed Limit: {decision.speed_limit} km/h\")\n        print(f\"   ✅ Expected: {scenario['expected']}\")\n        \nelse:\n    print(\"\\\\n⚠️ Smart Vehicle System not available for decision demonstration\")\n    print(\"   This demo requires the SmartVehicleSystem to be initialized\")\n\nprint(\"\\\\n\\\\n💡 KEY INSIGHTS:\")\nprint(\"=\" * 18)\ninsights = [\n    \"🎯 Same detection can trigger different responses based on speed\",\n    \"⚡ System considers multiple factors simultaneously\", \n    \"🛡️ Safety decisions include reasoning for transparency\",\n    \"📊 Brake force scales with danger level (0.0 to 1.0)\",\n    \"🧠 This is how professional autonomous systems make decisions\"\n]\n\nfor insight in insights:\n    print(f\"   {insight}\")\n\nprint(\"\\\\n🎓 You're now understanding multi-sensor AI decision making!\")"
  },
  {
   "cell_type": "markdown",
   "metadata": {
    "id": "live-monitoring"
   },
   "source": [
    "## 🎮 Interactive System Monitoring\n",
    "\n",
    "**Experience real-time intelligent processing with interactive controls:**"
   ]
  },
  {
   "cell_type": "code",
   "metadata": {
    "id": "interactive-monitoring"
   },
   "outputs": [],
   "source": "print(\"🎮 INTERACTIVE SMART SYSTEM MONITORING\")\nprint(\"=\" * 42)\nprint(\"\\\\n🚀 Start real-time intelligent monitoring with controls below:\")\n\nif widgets_available and 'smart_vehicle' in globals() and system_available:\n    # Create interactive controls\n    start_button = widgets.Button(\n        description='🚀 Start Monitoring',\n        button_style='success',\n        layout=widgets.Layout(width='200px', height='40px')\n    )\n    \n    stop_button = widgets.Button(\n        description='⏹️ Stop Monitoring', \n        button_style='danger',\n        layout=widgets.Layout(width='200px', height='40px')\n    )\n    \n    duration_slider = widgets.IntSlider(\n        value=15,\n        min=5,\n        max=60,\n        step=5,\n        description='Duration (s):',\n        style={'description_width': 'initial'}\n    )\n    \n    status_output = widgets.Output()\n    \n    # Display controls\n    controls = widgets.HBox([start_button, stop_button])\n    display(widgets.VBox([duration_slider, controls, status_output]))\n    \n    def start_monitoring(button):\n        \\\"\\\"\\\"Start intelligent monitoring\\\"\\\"\\\"\n        with status_output:\n            clear_output(wait=True)\n            print(f\"🚀 Starting {duration_slider.value}s intelligent monitoring...\")\n            print(\"📊 Processing AI detections + motor data in real-time\")\n            print(\"🧠 Making safety decisions every 100ms\")\n            print(\"\\\\n📈 LIVE MONITORING OUTPUT:\")\n            print(\"-\" * 30)\n            \n            # Start monitoring\n            smart_vehicle.start_intelligent_monitoring(duration=duration_slider.value)\n            \n            print(\"\\\\n✅ Monitoring session complete!\")\n            \n            # Show summary\n            status = smart_vehicle.get_system_status()\n            print(\"\\\\n📊 SESSION SUMMARY:\")\n            print(f\"   Decisions Made: {status['recent_decisions_count']}\")\n            print(f\"   Detections Processed: {status['recent_detections_count']}\")\n            \n            if status['last_decision']:\n                last = status['last_decision']\n                print(f\"   Last Decision: {last.action} ({last.safety_level.value})\")\n    \n    def stop_monitoring(button):\n        \\\"\\\"\\\"Stop monitoring\\\"\\\"\\\"\n        smart_vehicle.stop_monitoring()\n        with status_output:\n            print(\"\\\\n⏹️ Monitoring stopped by user\")\n    \n    start_button.on_click(start_monitoring)\n    stop_button.on_click(stop_monitoring)\n    \n    print(\"\\\\n💡 WHAT YOU'LL SEE:\")\n    print(\"   📊 Real-time processing at 10 FPS\")\n    print(\"   🧠 Intelligent decisions with reasoning\")\n    print(\"   📈 System performance metrics\")\n    print(\"   🛡️ Safety actions when needed\")\n    \n    print(\"\\\\n🎯 This simulates a real autonomous vehicle's decision loop!\")\n    \nelse:\n    print(\"\\\\n⚠️ Interactive monitoring not available\")\n    if not widgets_available:\n        print(\"   • IPython widgets not available\")\n    if not ('smart_vehicle' in globals() and system_available):\n        print(\"   • Smart Vehicle System not initialized\")\n    \n    print(\"\\\\n🔧 Alternative: Run monitoring programmatically\")\n    if 'smart_vehicle' in globals() and system_available:\n        print(\"   Try: smart_vehicle.start_intelligent_monitoring(duration=10)\")\n    else:\n        print(\"   First ensure SmartVehicleSystem is properly imported and initialized\")"
  },
  {
   "cell_type": "markdown",
   "metadata": {
    "id": "performance-analysis"
   },
   "source": [
    "## 📈 System Performance Analysis\n",
    "\n",
    "**Analyze how well your smart system is performing:**"
   ]
  },
  {
   "cell_type": "code",
   "metadata": {
    "id": "performance-metrics"
   },
   "outputs": [],
   "source": "print(\"📈 SMART SYSTEM PERFORMANCE ANALYSIS\")\nprint(\"=\" * 42)\nprint(\"\\\\n📊 Professional-grade system monitoring and metrics:\")\n\nif 'smart_vehicle' in globals() and system_available:\n    # Get comprehensive system status\n    status = smart_vehicle.get_system_status()\n    \n    print(\"\\\\n🖥️ SYSTEM HEALTH:\")\n    print(\"-\" * 20)\n    health_indicators = [\n        (\"Motor System\", \"✅ Ready\" if status['motor_available'] else \"🔧 Simulation Mode\"),\n        (\"AI Camera\", \"✅ Ready\" if status['camera_available'] else \"⚠️ Needs Setup\"),\n        (\"Safety Systems\", \"✅ Active\" if status['safety_active'] else \"❌ Disabled\"),\n        (\"Emergency Brake\", \"🚨 Active\" if status['emergency_brake_active'] else \"✅ Normal\")\n    ]\n    \n    for component, status_text in health_indicators:\n        print(f\"   {component}: {status_text}\")\n    \n    print(\"\\\\n📊 PROCESSING STATISTICS:\")\n    print(\"-\" * 28)\n    print(f\"   Recent Detections: {status['recent_detections_count']}\")\n    print(f\"   Decisions Made: {status['recent_decisions_count']}\")\n    \n    # Analyze decision history\n    if smart_vehicle.safety_decisions:\n        decisions = smart_vehicle.safety_decisions\n        \n        # Count decision types\n        decision_counts = {}\n        safety_level_counts = {}\n        \n        for decision in decisions:\n            decision_counts[decision.action] = decision_counts.get(decision.action, 0) + 1\n            level = decision.safety_level.value\n            safety_level_counts[level] = safety_level_counts.get(level, 0) + 1\n        \n        print(\"\\\\n🧠 DECISION ANALYSIS:\")\n        print(\"-\" * 22)\n        for action, count in decision_counts.items():\n            percentage = (count / len(decisions)) * 100\n            print(f\"   {action}: {count} times ({percentage:.1f}%)\")\n        \n        print(\"\\\\n🚨 SAFETY LEVEL DISTRIBUTION:\")\n        print(\"-\" * 32)\n        for level, count in safety_level_counts.items():\n            percentage = (count / len(decisions)) * 100\n            print(f\"   {level.upper()}: {count} times ({percentage:.1f}%)\")\n        \n        # Show recent decision\n        if status['last_decision']:\n            last = status['last_decision']\n            print(\"\\\\n🔍 MOST RECENT DECISION:\")\n            print(\"-\" * 25)\n            print(f\"   Action: {last.action}\")\n            print(f\"   Reasoning: {last.reason}\")\n            print(f\"   Safety Level: {last.safety_level.value.upper()}\")\n            print(f\"   Brake Force: {last.brake_force:.1f}\")\n            if last.speed_limit:\n                print(f\"   Speed Limit: {last.speed_limit} km/h\")\n    else:\n        print(\"\\\\n💡 No decisions recorded yet\")\n        print(\"   Run the monitoring system to generate decision data\")\n        \nelse:\n    print(\"\\\\n⚠️ Smart Vehicle System not available for performance analysis\")\n    print(\"   This analysis requires the SmartVehicleSystem to be initialized\")\n\nprint(\"\\\\n\\\\n💡 PROFESSIONAL INSIGHTS:\")\nprint(\"=\" * 27)\ninsights = [\n    \"📊 This monitoring approach is used by Tesla, Waymo, etc.\",\n    \"🎯 Decision frequency indicates system responsiveness\",\n    \"🛡️ Safety level distribution shows system conservatism\", \n    \"📈 Performance metrics guide system optimization\",\n    \"🔍 Decision reasoning enables system debugging\"\n]\n\nfor insight in insights:\n    print(f\"   {insight}\")\n\nprint(\"\\\\n🎓 You're now analyzing AI systems like a professional engineer!\")"
  },
  {
   "cell_type": "markdown",
   "metadata": {
    "id": "next-steps"
   },
   "source": [
    "## 🎉 Congratulations - You've Built Your First Smart AI System!\n",
    "\n",
    "**This is a major milestone in your AI engineering journey!** 🚀\n",
    "\n",
    "### 🏆 What You've Accomplished\n",
    "\n",
    "✅ **Professional Architecture**: Built industry-standard multi-sensor system\n",
    "\n",
    "✅ **Intelligent Decision Making**: Combined AI detection with motor data\n",
    "\n",
    "✅ **Real-time Processing**: Implemented 10 FPS decision loop\n",
    "\n",
    "✅ **Safety Integration**: Created emergency response systems\n",
    "\n",
    "✅ **System Monitoring**: Added professional performance analysis\n",
    "\n",
    "### 💼 Professional Skills Developed\n",
    "\n",
    "- **Multi-sensor Fusion**: Core skill for autonomous systems\n",
    "- **Safety-Critical Programming**: Code that must work reliably  \n",
    "- **System Architecture**: How to structure complex AI systems\n",
    "- **Performance Analysis**: Professional system monitoring\n",
    "\n",
    "### 🚀 What's Next in Level 4\n",
    "\n",
    "Now that you understand the architecture, you'll build specific applications:\n",
    "\n",
    "**Next Notebook**: `02_Safety_Stop_System.ipynb`\n",
    "- Stop sign detection with automatic braking\n",
    "- Speed-aware safety responses\n",
    "- Emergency decision logic\n",
    "\n",
    "**Then**: `03_Smart_Parking_Assistant.ipynb` \n",
    "- AI-powered parking space detection\n",
    "- Precision motor control for parking\n",
    "- Multi-step automation sequences\n",
    "\n",
    "**Finally**: `04_Student_Project_Builder.ipynb`\n",
    "- Template for YOUR custom smart system\n",
    "- Guided project development\n",
    "- Assessment and portfolio preparation\n",
    "\n",
    "---\n",
    "\n",
    "## 💡 Professional Reflection\n",
    "\n",
    "**You've just built the exact type of system** that powers autonomous vehicles, smart robots, and intelligent infrastructure.\n",
    "\n",
    "**The architecture you learned** is used by Tesla, Waymo, Boston Dynamics, and every major AI company.\n",
    "\n",
    "**The skills you developed** are worth $100,000+ salaries in the AI industry.\n",
    "\n",
    "**Ready to build specific smart applications?** Let's continue! 🚀"
   ]
  }
 ],
 "metadata": {
  "kernelspec": {
   "display_name": "Python 3",
   "language": "python",
   "name": "python3"
  },
  "language_info": {
   "codemirror_mode": {
    "name": "ipython",
    "version": 3
   },
   "file_extension": ".py",
   "mimetype": "text/x-python",
   "name": "python",
   "nbconvert_exporter": "python",
   "pygments_lexer": "ipython3",
   "version": "3.9.2"
  }
 },
 "nbformat": 4,
 "nbformat_minor": 4
}