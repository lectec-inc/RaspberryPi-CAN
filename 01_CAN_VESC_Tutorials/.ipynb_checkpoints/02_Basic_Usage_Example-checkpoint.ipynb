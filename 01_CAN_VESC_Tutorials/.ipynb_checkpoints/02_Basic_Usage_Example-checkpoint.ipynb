{
 "cells": [
  {
   "cell_type": "markdown",
   "metadata": {},
   "source": [
    "# VESC Motor Controller - Basic Usage\n",
    "\n",
    "This notebook demonstrates basic usage of the VESC student API for reading telemetry data and controlling the motor."
   ]
  },
  {
   "cell_type": "markdown",
   "metadata": {},
   "source": [
    "## Setup\n",
    "\n",
    "First, let's import the student API and create a connection to the VESC controller."
   ]
  },
  {
   "cell_type": "code",
   "execution_count": 1,
   "metadata": {},
   "outputs": [
    {
     "name": "stdout",
     "output_type": "stream",
     "text": [
      "Starting VESC CAN System...\n",
      "Connected to CAN bus: can0\n",
      "Main processing loop started\n",
      "VESC CAN System started successfully\n",
      "VESC system started successfully!\n",
      "Connected to VESC controller!\n",
      "Discovered VESC controller: 74\n"
     ]
    }
   ],
   "source": [
    "# Setup Python path to find student_api from parent directory\n",
    "import sys\n",
    "import os\n",
    "sys.path.append(os.path.dirname(os.path.dirname(os.path.abspath('__file__'))))\n",
    "\n",
    "from student_api import VESCStudentAPI\n",
    "import time\n",
    "\n",
    "# Create API instance\n",
    "vesc_api = VESCStudentAPI()\n",
    "\n",
    "# Start the VESC system\n",
    "if vesc_api.start():\n",
    "    print(\"VESC system started successfully!\")\n",
    "    \n",
    "    # Get controller for VESC ID 74 (as specified in README)\n",
    "    vesc = vesc_api.get_controller(74)\n",
    "    \n",
    "    if vesc:\n",
    "        print(\"Connected to VESC controller!\")\n",
    "    else:\n",
    "        print(\"Failed to get VESC controller\")\n",
    "else:\n",
    "    print(\"Failed to start VESC system\")"
   ]
  },
  {
   "cell_type": "markdown",
   "metadata": {},
   "source": [
    "## Reading Basic Telemetry\n",
    "\n",
    "Let's read some basic motor telemetry data:\n",
    "\n",
    "##### NOTE: If the motor is not spinning, the RPM, Current, and Duty Cycle will all read 0"
   ]
  },
  {
   "cell_type": "code",
   "execution_count": 3,
   "metadata": {},
   "outputs": [
    {
     "name": "stdout",
     "output_type": "stream",
     "text": [
      "Input Voltage: 25.2 V\n",
      "Motor RPM: 0\n",
      "Motor Current: 0.0 A\n",
      "Duty Cycle: 0.0\n"
     ]
    }
   ],
   "source": [
    "# Read current motor status\n",
    "rpm = vesc.get_rpm()\n",
    "current = vesc.get_motor_current()\n",
    "duty_cycle = vesc.get_duty_cycle()\n",
    "voltage = vesc.get_input_voltage()\n",
    "\n",
    "print(f\"Input Voltage: {voltage} V\")\n",
    "print(f\"Motor RPM: {rpm}\")\n",
    "print(f\"Motor Current: {current} A\")\n",
    "print(f\"Duty Cycle: {duty_cycle}\")"
   ]
  },
  {
   "cell_type": "markdown",
   "metadata": {},
   "source": [
    "## Reading Temperature Data\n",
    "\n",
    "Monitor motor and controller temperatures:\n",
    "\n",
    "##### NOTE: The Lectec vehicles do not have temperature sensors in the motor"
   ]
  },
  {
   "cell_type": "code",
   "execution_count": 5,
   "metadata": {},
   "outputs": [
    {
     "name": "stdout",
     "output_type": "stream",
     "text": [
      "Controller (FET) Temperature: 28.4°C\n",
      "Motor Temperature: 0.0°C\n"
     ]
    }
   ],
   "source": [
    "# Read temperature data\n",
    "fet_temp = vesc.get_fet_temperature()\n",
    "motor_temp = vesc.get_motor_temperature()\n",
    "\n",
    "print(f\"Controller (FET) Temperature: {fet_temp}°C\")\n",
    "print(f\"Motor Temperature: {motor_temp}°C\")\n",
    "\n",
    "# Check if temperatures are safe\n",
    "if fet_temp and fet_temp > 80:\n",
    "    print(\"⚠️ WARNING: Controller temperature is high!\")\n",
    "if motor_temp and motor_temp > 100:\n",
    "    print(\"⚠️ WARNING: Motor temperature is high!\")"
   ]
  },
  {
   "cell_type": "markdown",
   "metadata": {},
   "source": [
    "## Power and Energy Monitoring\n",
    "\n",
    "Monitor power consumption and energy usage:\n",
    "\n",
    "##### NOTE: If the motor is not moving, Input current will be 0. If the vehcile has not been used since startup, energy will also = 0."
   ]
  },
  {
   "cell_type": "code",
   "execution_count": 7,
   "metadata": {},
   "outputs": [
    {
     "name": "stdout",
     "output_type": "stream",
     "text": [
      "Input Current: 0.0 A\n",
      "Energy Consumed: 0.0 Ah, 0.0 Wh\n"
     ]
    }
   ],
   "source": [
    "# Read power and energy data\n",
    "input_current = vesc.get_input_current()\n",
    "amp_hours = vesc.get_amp_hours_consumed()\n",
    "watt_hours = vesc.get_watt_hours_consumed()\n",
    "\n",
    "print(f\"Input Current: {input_current} A\")\n",
    "print(f\"Energy Consumed: {amp_hours} Ah, {watt_hours} Wh\")\n",
    "\n",
    "# Calculate approximate power\n",
    "if voltage and input_current:\n",
    "    power = voltage * input_current\n",
    "    print(f\"Approximate Power: {power:.2f} W\")"
   ]
  },
  {
   "cell_type": "markdown",
   "metadata": {},
   "source": [
    "## Live Data Monitoring\n",
    "\n",
    "Get all telemetry data at once and display it continuously:"
   ]
  },
  {
   "cell_type": "code",
   "execution_count": 9,
   "metadata": {},
   "outputs": [
    {
     "name": "stdout",
     "output_type": "stream",
     "text": [
      "=== VESC Live Data ===\n",
      "RPM: -15\n",
      "Current: 0.0 A\n",
      "Duty Cycle: 0.0\n",
      "Voltage: 25.2 V\n",
      "FET Temp: 30.3°C\n",
      "Motor Temp: 0.0°C\n",
      "Live monitoring complete!\n"
     ]
    }
   ],
   "source": [
    "# Monitor live data for 10 seconds\n",
    "import time\n",
    "from IPython.display import clear_output\n",
    "\n",
    "print(\"Monitoring live data for 10 seconds...\")\n",
    "start_time = time.time()\n",
    "\n",
    "while time.time() - start_time < 10:\n",
    "    clear_output(wait=True)\n",
    "    \n",
    "    # Get all telemetry at once\n",
    "    data = vesc.get_all_telemetry()\n",
    "    \n",
    "    print(\"=== VESC Live Data ===\")\n",
    "    print(f\"RPM: {data['motor']['rpm']}\")\n",
    "    print(f\"Current: {data['motor']['current']} A\")\n",
    "    print(f\"Duty Cycle: {data['motor']['duty_cycle']}\")\n",
    "    print(f\"Voltage: {data['power']['input_voltage']} V\")\n",
    "    print(f\"FET Temp: {data['temperatures']['fet']}°C\")\n",
    "    print(f\"Motor Temp: {data['temperatures']['motor']}°C\")\n",
    "    \n",
    "    time.sleep(0.5)\n",
    "\n",
    "print(\"Live monitoring complete!\")"
   ]
  },
  {
   "cell_type": "markdown",
   "metadata": {},
   "source": [
    "## Safe Motor Control\n",
    "\n",
    "**⚠️ WARNING: Only run these commands when it's safe to do so!**\n",
    "\n",
    "The following cells demonstrate motor control. Make sure the motor is properly secured and safe to operate."
   ]
  },
  {
   "cell_type": "code",
   "execution_count": 13,
   "metadata": {},
   "outputs": [],
   "source": [
    "# SAFETY CHECK - Uncomment the next line to enable motor control\n",
    "# MOTOR_CONTROL_ENABLED = True\n",
    "MOTOR_CONTROL_ENABLED = True\n",
    "\n",
    "if not MOTOR_CONTROL_ENABLED:\n",
    "    print(\"Motor control is DISABLED for safety.\")\n",
    "    print(\"Set MOTOR_CONTROL_ENABLED = True to enable motor commands.\")"
   ]
  },
  {
   "cell_type": "code",
   "execution_count": null,
   "metadata": {},
   "outputs": [],
   "source": [
    "if MOTOR_CONTROL_ENABLED:\n",
    "    # Set a small duty cycle (10%)\n",
    "    print(\"Setting duty cycle to 10%...\")\n",
    "    success = vesc.set_duty_cycle(0.1)\n",
    "    print(f\"Command sent: {success}\")\n",
    "    \n",
    "    # Wait and monitor\n",
    "    time.sleep(3)\n",
    "    rpm = vesc.get_rpm()\n",
    "    print(f\"Current RPM: {rpm}\")\n",
    "    \n",
    "    # Stop the motor\n",
    "    print(\"Stopping motor...\")\n",
    "    vesc.set_duty_cycle(0)\n",
    "    print(\"Motor stopped.\")\n",
    "else:\n",
    "    print(\"Motor control commands skipped (safety mode).\")"
   ]
  },
  {
   "cell_type": "markdown",
   "metadata": {},
   "source": [
    "## Cleanup\n",
    "\n",
    "Always ensure the motor is stopped when finished:"
   ]
  },
  {
   "cell_type": "code",
   "execution_count": null,
   "metadata": {},
   "outputs": [],
   "source": [
    "# Ensure motor is stopped\n",
    "vesc.set_duty_cycle(0)\n",
    "print(\"Session complete. Motor stopped.\")"
   ]
  }
 ],
 "metadata": {
  "kernelspec": {
   "display_name": "Python 3 (ipykernel)",
   "language": "python",
   "name": "python3"
  },
  "language_info": {
   "codemirror_mode": {
    "name": "ipython",
    "version": 3
   },
   "file_extension": ".py",
   "mimetype": "text/x-python",
   "name": "python",
   "nbconvert_exporter": "python",
   "pygments_lexer": "ipython3",
   "version": "3.11.2"
  }
 },
 "nbformat": 4,
 "nbformat_minor": 4
}
