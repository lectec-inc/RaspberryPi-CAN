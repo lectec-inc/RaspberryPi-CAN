{
 "cells": [
  {
   "cell_type": "markdown",
   "metadata": {},
   "source": [
    "# VESC Motor Controller - Basic Usage\n",
    "\n",
    "This notebook demonstrates basic usage of the VESC student API for reading telemetry data and controlling the motor."
   ]
  },
  {
   "cell_type": "markdown",
   "metadata": {},
   "source": [
    "## Setup\n",
    "\n",
    "First, let's import the student API and create a connection to the VESC controller."
   ]
  },
  {
   "cell_type": "code",
   "metadata": {},
   "outputs": [],
   "source": [
    "# Setup Python path to find student_api from parent directory\n",
    "import sys\n",
    "import os\n",
    "sys.path.append(os.path.dirname(os.path.dirname(os.path.abspath('__file__'))))\n",
    "\n",
    "from student_api import VESCStudentAPI\n",
    "import time\n",
    "\n",
    "vesc_api = VESCStudentAPI() # Create and start VESC API\n",
    "\n",
    "if vesc_api.start():\n",
    "    time.sleep(6)  # Wait for controller discovery\n",
    "    \n",
    "    connected_controllers = vesc_api.get_connected_controllers() # Check if VESC controller 74 is connected\n",
    "    vesc = vesc_api.get_controller(74)\n",
    "    \n",
    "    if 74 in connected_controllers and vesc.is_connected():\n",
    "        voltage = vesc.get_input_voltage()\n",
    "        print(f\"\u2705 Connected to VESC controller! Battery: {voltage:.1f}V\")\n",
    "    else:\n",
    "        print(\"\u274c VESC controller not found or not responding! Check that it is powered ON.\")\n",
    "else:\n",
    "    print(\"\u274c Failed to start VESC system\")"
   ],
   "execution_count": null
  },
  {
   "cell_type": "markdown",
   "metadata": {},
   "source": [
    "## Reading Basic Telemetry\n",
    "\n",
    "Let's read some basic motor telemetry data:\n",
    "\n",
    "##### NOTE: If the motor is not spinning, the RPM, Current, and Duty Cycle will all read 0"
   ]
  },
  {
   "cell_type": "code",
   "execution_count": 2,
   "metadata": {},
   "outputs": [
    {
     "name": "stdout",
     "output_type": "stream",
     "text": [
      "Input Voltage: 25.2 V\n",
      "Motor RPM: 0\n",
      "Motor Current: 0.0 A\n",
      "Duty Cycle: 0.0\n"
     ]
    }
   ],
   "source": [
    "# Read current motor status\n",
    "rpm = vesc.get_rpm()\n",
    "current = vesc.get_motor_current()\n",
    "duty_cycle = vesc.get_duty_cycle()\n",
    "voltage = vesc.get_input_voltage()\n",
    "\n",
    "print(f\"Input Voltage: {voltage} V\")\n",
    "print(f\"Motor RPM: {rpm}\")\n",
    "print(f\"Motor Current: {current} A\")\n",
    "print(f\"Duty Cycle: {duty_cycle}\")"
   ]
  },
  {
   "cell_type": "markdown",
   "metadata": {},
   "source": [
    "## Reading Temperature Data\n",
    "\n",
    "Monitor motor and controller temperatures:\n",
    "\n",
    "##### NOTE: The Lectec vehicles do not have temperature sensors in the motor"
   ]
  },
  {
   "cell_type": "code",
   "execution_count": null,
   "metadata": {},
   "outputs": [],
   "source": [
    "# Read temperature data\n",
    "fet_temp = vesc.get_fet_temperature()\n",
    "motor_temp = vesc.get_motor_temperature()\n",
    "\n",
    "print(f\"Controller (FET) Temperature: {fet_temp}\u00b0C\")\n",
    "print(f\"Motor Temperature: {motor_temp}\u00b0C\")\n",
    "\n",
    "# Check if temperatures are safe\n",
    "if fet_temp and fet_temp > 80:\n",
    "    print(\"\u26a0\ufe0f WARNING: Controller temperature is high!\")\n",
    "if motor_temp and motor_temp > 100:\n",
    "    print(\"\u26a0\ufe0f WARNING: Motor temperature is high!\")"
   ]
  },
  {
   "cell_type": "markdown",
   "metadata": {},
   "source": [
    "## Power and Energy Monitoring\n",
    "\n",
    "Monitor power consumption and energy usage:\n",
    "\n",
    "##### NOTE: If the motor is not moving, Input current will be 0. If the vehcile has not been used since startup, energy will also = 0."
   ]
  },
  {
   "cell_type": "code",
   "execution_count": null,
   "metadata": {},
   "outputs": [],
   "source": [
    "# Read power and energy data\n",
    "input_current = vesc.get_input_current()\n",
    "amp_hours = vesc.get_amp_hours_consumed()\n",
    "watt_hours = vesc.get_watt_hours_consumed()\n",
    "\n",
    "print(f\"Input Current: {input_current} A\")\n",
    "print(f\"Energy Consumed: {amp_hours} Ah, {watt_hours} Wh\")\n",
    "\n",
    "# Calculate approximate power\n",
    "if voltage and input_current:\n",
    "    power = voltage * input_current\n",
    "    print(f\"Approximate Power: {power:.2f} W\")"
   ]
  },
  {
   "cell_type": "markdown",
   "metadata": {},
   "source": [
    "## Live Data Monitoring\n",
    "\n",
    "Get all telemetry data at once and display it continuously:"
   ]
  },
  {
   "cell_type": "code",
   "execution_count": null,
   "metadata": {},
   "outputs": [],
   "source": [
    "# Monitor live data for 10 seconds\n",
    "import time\n",
    "from IPython.display import clear_output\n",
    "\n",
    "print(\"Monitoring live data for 10 seconds...\")\n",
    "start_time = time.time()\n",
    "\n",
    "while time.time() - start_time < 10:\n",
    "    clear_output(wait=True)\n",
    "    \n",
    "    # Get all telemetry at once\n",
    "    data = vesc.get_all_telemetry()\n",
    "    \n",
    "    print(\"=== VESC Live Data ===\")\n",
    "    print(f\"RPM: {data['motor']['rpm']}\")\n",
    "    print(f\"Current: {data['motor']['current']} A\")\n",
    "    print(f\"Duty Cycle: {data['motor']['duty_cycle']}\")\n",
    "    print(f\"Voltage: {data['power']['input_voltage']} V\")\n",
    "    print(f\"FET Temp: {data['temperatures']['fet']}\u00b0C\")\n",
    "    print(f\"Motor Temp: {data['temperatures']['motor']}\u00b0C\")\n",
    "    \n",
    "    time.sleep(0.5)\n",
    "\n",
    "print(\"Live monitoring complete!\")"
   ]
  },
  {
   "cell_type": "markdown",
   "metadata": {},
   "source": [
    "## Safe Motor Control\n",
    "\n",
    "**\u26a0\ufe0f WARNING: Only run these commands when it's safe to do so!**\n",
    "\n",
    "The following cells demonstrate motor control. Make sure the motor is properly secured and safe to operate."
   ]
  },
  {
   "cell_type": "code",
   "execution_count": 4,
   "metadata": {},
   "outputs": [],
   "source": [
    "# RUN THIS CELL FIRST BEFORE CONTINUING\n",
    "# SAFETY CHECK - Uncomment the next line to enable motor control\n",
    "# MOTOR_CONTROL_ENABLED = True\n",
    "MOTOR_CONTROL_ENABLED = True\n",
    "\n",
    "if not MOTOR_CONTROL_ENABLED:\n",
    "    print(\"Motor control is DISABLED for safety.\")\n",
    "    print(\"Set MOTOR_CONTROL_ENABLED = True to enable motor commands.\")"
   ]
  },
  {
   "cell_type": "code",
   "execution_count": 18,
   "metadata": {},
   "outputs": [
    {
     "name": "stdout",
     "output_type": "stream",
     "text": [
      "Setting duty cycle to 10%...\n",
      "Command sent: True\n",
      "Current RPM: 4241\n",
      "Stopping motor...\n",
      "Motor stopped.\n"
     ]
    }
   ],
   "source": [
    "if MOTOR_CONTROL_ENABLED:\n",
    "    # Set a small duty cycle (10%)\n",
    "    print(\"Setting duty cycle to 10%...\")\n",
    "    success = vesc.set_duty_cycle(0.2)\n",
    "    print(f\"Command sent: {success}\")\n",
    "    \n",
    "    # Wait and monitor\n",
    "    time.sleep(1)\n",
    "    rpm = vesc.get_rpm()\n",
    "    print(f\"Current RPM: {rpm}\")\n",
    "    \n",
    "    # Stop the motor\n",
    "    print(\"Stopping motor...\")\n",
    "    vesc.set_duty_cycle(0)\n",
    "    print(\"Motor stopped.\")\n",
    "else:\n",
    "    print(\"Motor control commands skipped (safety mode). Set MOTOR_CONTROL_ENABLED = True if desired.\")"
   ]
  },
  {
   "cell_type": "markdown",
   "metadata": {},
   "source": [
    "## Current Control\n",
    "\n",
    "**\u26a0\ufe0f WARNING: Only run these commands when it's safe to do so!**\n",
    "\n",
    "Current control allows precise motor torque control. The VESC will maintain the specified current regardless of load or speed."
   ]
  },
  {
   "cell_type": "code",
   "execution_count": 19,
   "metadata": {},
   "outputs": [
    {
     "name": "stdout",
     "output_type": "stream",
     "text": [
      "Setting motor current to 2.0 A...\n",
      "Command sent: True\n",
      "Motor Current: 0.4 A\n",
      "Input Current: 0.3 A\n",
      "Input Voltage: 25.2 V\n",
      "Stopping motor...\n",
      "Motor stopped.\n"
     ]
    }
   ],
   "source": [
    "if MOTOR_CONTROL_ENABLED:\n",
    "    # Set a small motor current (2 A)\n",
    "    print(\"Setting motor current to 2.0 A...\")\n",
    "    success = vesc.set_current(2.0)\n",
    "    print(f\"Command sent: {success}\")\n",
    "    \n",
    "    # Wait and monitor current values\n",
    "    time.sleep(1)\n",
    "    motor_current = vesc.get_motor_current()\n",
    "    input_current = vesc.get_input_current()\n",
    "    voltage = vesc.get_input_voltage()\n",
    "    \n",
    "    print(f\"Motor Current: {motor_current} A\")\n",
    "    print(f\"Input Current: {input_current} A\")\n",
    "    print(f\"Input Voltage: {voltage} V\")\n",
    "    \n",
    "    # Stop the motor\n",
    "    print(\"Stopping motor...\")\n",
    "    vesc.set_current(0)\n",
    "    print(\"Motor stopped.\")\n",
    "else:\n",
    "    print(\"Motor control commands skipped (safety mode). Set MOTOR_CONTROL_ENABLED = True if desired.\")"
   ]
  },
  {
   "cell_type": "markdown",
   "metadata": {},
   "source": [
    "## Brake Current Control\n",
    "\n",
    "**\u26a0\ufe0f WARNING: Only run these commands when it's safe to do so!**\n",
    "\n",
    "Brake current control applies regenerative braking to the motor. The motor acts as a generator, feeding energy back to the battery."
   ]
  },
  {
   "cell_type": "code",
   "execution_count": 27,
   "metadata": {},
   "outputs": [
    {
     "name": "stdout",
     "output_type": "stream",
     "text": [
      "Motor Current:  0.0\n",
      "RPM:  0\n",
      "Motor Current:  0.0\n",
      "RPM:  5\n",
      "Motor Current:  1.4\n",
      "RPM:  167\n",
      "Motor Current:  2.9\n",
      "RPM:  162\n",
      "Motor Current:  0.0\n",
      "RPM:  -12\n",
      "Releasing brake...\n"
     ]
    }
   ],
   "source": [
    "if MOTOR_CONTROL_ENABLED:\n",
    "\n",
    "    # Apply brake current (5 A) for 5 Seconds\n",
    "    #A loop to keep track of time from 1-5\n",
    "    for i in range(5):\n",
    "        success = vesc.set_brake_current(5.0) #set the brake current to -5\n",
    "        print(\"Motor Current: \", vesc.get_motor_current()) #Print the Motor Current\n",
    "        print(\"RPM: \", vesc.get_rpm()) #Print the RPM\n",
    "        time.sleep(1) #Pause for 1 second\n",
    "        ++i #Increment the counter of the loop, 1s has passed\n",
    "    \n",
    "    # Stop braking\n",
    "    print(\"Releasing brake...\")\n",
    "    vesc.set_brake_current(0)\n",
    "    \n",
    "\n",
    "else:\n",
    "    print(\"Motor control commands skipped (safety mode). Set MOTOR_CONTROL_ENABLED = True if desired.\")"
   ]
  },
  {
   "cell_type": "markdown",
   "metadata": {},
   "source": [
    "## Cleanup\n",
    "\n",
    "Always ensure the motor is stopped when finished:"
   ]
  },
  {
   "cell_type": "code",
   "execution_count": null,
   "metadata": {},
   "outputs": [],
   "source": [
    "# Ensure motor is stopped\n",
    "vesc.set_duty_cycle(0)\n",
    "print(\"Session complete. Motor stopped.\")"
   ]
  }
 ],
 "metadata": {
  "kernelspec": {
   "display_name": "Python 3 (ipykernel)",
   "language": "python",
   "name": "python3"
  },
  "language_info": {
   "codemirror_mode": {
    "name": "ipython",
    "version": 3
   },
   "file_extension": ".py",
   "mimetype": "text/x-python",
   "name": "python",
   "nbconvert_exporter": "python",
   "pygments_lexer": "ipython3",
   "version": "3.11.2"
  }
 },
 "nbformat": 4,
 "nbformat_minor": 4
}